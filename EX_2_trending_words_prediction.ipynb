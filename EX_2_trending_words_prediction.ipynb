{
  "nbformat": 4,
  "nbformat_minor": 0,
  "metadata": {
    "colab": {
      "name": "EX_2_trending_words_prediction.ipynb",
      "provenance": [],
      "collapsed_sections": []
    },
    "kernelspec": {
      "name": "python3",
      "display_name": "Python 3"
    }
  },
  "cells": [
    {
      "cell_type": "code",
      "metadata": {
        "colab": {
          "base_uri": "https://localhost:8080/"
        },
        "id": "14YXcJfNTeL6",
        "outputId": "cd45ad0e-2dbc-49b4-abd6-96bc23091c46"
      },
      "source": [
        "!pip install twitter\r\n",
        "!pip install tweepy"
      ],
      "execution_count": null,
      "outputs": [
        {
          "output_type": "stream",
          "text": [
            "Collecting twitter\n",
            "\u001b[?25l  Downloading https://files.pythonhosted.org/packages/85/e2/f602e3f584503f03e0389491b251464f8ecfe2596ac86e6b9068fe7419d3/twitter-1.18.0-py2.py3-none-any.whl (54kB)\n",
            "\r\u001b[K     |██████                          | 10kB 15.9MB/s eta 0:00:01\r\u001b[K     |████████████                    | 20kB 21.2MB/s eta 0:00:01\r\u001b[K     |██████████████████              | 30kB 9.7MB/s eta 0:00:01\r\u001b[K     |████████████████████████        | 40kB 8.1MB/s eta 0:00:01\r\u001b[K     |██████████████████████████████▏ | 51kB 4.4MB/s eta 0:00:01\r\u001b[K     |████████████████████████████████| 61kB 2.9MB/s \n",
            "\u001b[?25hInstalling collected packages: twitter\n",
            "Successfully installed twitter-1.18.0\n",
            "Requirement already satisfied: tweepy in /usr/local/lib/python3.6/dist-packages (3.6.0)\n",
            "Requirement already satisfied: six>=1.10.0 in /usr/local/lib/python3.6/dist-packages (from tweepy) (1.15.0)\n",
            "Requirement already satisfied: requests>=2.11.1 in /usr/local/lib/python3.6/dist-packages (from tweepy) (2.23.0)\n",
            "Requirement already satisfied: requests-oauthlib>=0.7.0 in /usr/local/lib/python3.6/dist-packages (from tweepy) (1.3.0)\n",
            "Requirement already satisfied: PySocks>=1.5.7 in /usr/local/lib/python3.6/dist-packages (from tweepy) (1.7.1)\n",
            "Requirement already satisfied: certifi>=2017.4.17 in /usr/local/lib/python3.6/dist-packages (from requests>=2.11.1->tweepy) (2020.12.5)\n",
            "Requirement already satisfied: idna<3,>=2.5 in /usr/local/lib/python3.6/dist-packages (from requests>=2.11.1->tweepy) (2.10)\n",
            "Requirement already satisfied: chardet<4,>=3.0.2 in /usr/local/lib/python3.6/dist-packages (from requests>=2.11.1->tweepy) (3.0.4)\n",
            "Requirement already satisfied: urllib3!=1.25.0,!=1.25.1,<1.26,>=1.21.1 in /usr/local/lib/python3.6/dist-packages (from requests>=2.11.1->tweepy) (1.24.3)\n",
            "Requirement already satisfied: oauthlib>=3.0.0 in /usr/local/lib/python3.6/dist-packages (from requests-oauthlib>=0.7.0->tweepy) (3.1.0)\n"
          ],
          "name": "stdout"
        }
      ]
    },
    {
      "cell_type": "code",
      "metadata": {
        "id": "xJ6Cofn0UQQf"
      },
      "source": [
        "import json"
      ],
      "execution_count": null,
      "outputs": []
    },
    {
      "cell_type": "code",
      "metadata": {
        "id": "ETUn7R9lYiua",
        "colab": {
          "base_uri": "https://localhost:8080/"
        },
        "outputId": "7af16aa3-4564-4a6a-d5c4-3917b9f507f8"
      },
      "source": [
        "#opening the json file crawled_tweets\r\n",
        "crawled_files = open(\"crawled_tweets\")\r\n",
        "crawled_files = json.load(crawled_files)\r\n",
        "\r\n",
        "print(crawled_files)"
      ],
      "execution_count": null,
      "outputs": [
        {
          "output_type": "stream",
          "text": [
            "{'statuses': [{'created_at': 'Wed Dec 30 04:45:43 +0000 2020', 'id': 1344142598617899010, 'id_str': '1344142598617899010', 'text': '@BenKTallmadge @SidneyPowell1 @RealPNavarro @realDonaldTrump @RealRLimbaugh @GenFlynn @LLinWood Energy independent… https://t.co/i6HQY3yBSJ', 'truncated': True, 'entities': {'hashtags': [], 'symbols': [], 'user_mentions': [{'screen_name': 'BenKTallmadge', 'name': 'Password Hunter02', 'id': 3301847203, 'id_str': '3301847203', 'indices': [0, 14]}, {'screen_name': 'SidneyPowell1', 'name': 'Sidney Powell 🇺🇸⭐⭐⭐ #Kraken', 'id': 586707638, 'id_str': '586707638', 'indices': [15, 29]}, {'screen_name': 'RealPNavarro', 'name': 'Peter Navarro', 'id': 1242534200634478593, 'id_str': '1242534200634478593', 'indices': [30, 43]}, {'screen_name': 'realDonaldTrump', 'name': 'Donald J. Trump', 'id': 25073877, 'id_str': '25073877', 'indices': [44, 60]}, {'screen_name': 'RealRLimbaugh', 'name': 'Rush H. Limbaugh', 'id': 1314703570822930432, 'id_str': '1314703570822930432', 'indices': [61, 75]}, {'screen_name': 'GenFlynn', 'name': 'General Flynn', 'id': 240454812, 'id_str': '240454812', 'indices': [76, 85]}, {'screen_name': 'LLinWood', 'name': 'Lin Wood', 'id': 187680645, 'id_str': '187680645', 'indices': [86, 95]}], 'urls': [{'url': 'https://t.co/i6HQY3yBSJ', 'expanded_url': 'https://twitter.com/i/web/status/1344142598617899010', 'display_url': 'twitter.com/i/web/status/1…', 'indices': [116, 139]}]}, 'metadata': {'iso_language_code': 'en', 'result_type': 'recent'}, 'source': '<a href=\"http://twitter.com/download/android\" rel=\"nofollow\">Twitter for Android</a>', 'in_reply_to_status_id': 1344027252984410112, 'in_reply_to_status_id_str': '1344027252984410112', 'in_reply_to_user_id': 3301847203, 'in_reply_to_user_id_str': '3301847203', 'in_reply_to_screen_name': 'BenKTallmadge', 'user': {'id': 1341586465378217985, 'id_str': '1341586465378217985', 'name': 'Corey', 'screen_name': 'Corey36357252', 'location': '', 'description': '', 'url': None, 'entities': {'description': {'urls': []}}, 'protected': False, 'followers_count': 16, 'friends_count': 56, 'listed_count': 0, 'created_at': 'Wed Dec 23 03:28:56 +0000 2020', 'favourites_count': 1351, 'utc_offset': None, 'time_zone': None, 'geo_enabled': False, 'verified': False, 'statuses_count': 944, 'lang': None, 'contributors_enabled': False, 'is_translator': False, 'is_translation_enabled': False, 'profile_background_color': 'F5F8FA', 'profile_background_image_url': None, 'profile_background_image_url_https': None, 'profile_background_tile': False, 'profile_image_url': 'http://abs.twimg.com/sticky/default_profile_images/default_profile_normal.png', 'profile_image_url_https': 'https://abs.twimg.com/sticky/default_profile_images/default_profile_normal.png', 'profile_link_color': '1DA1F2', 'profile_sidebar_border_color': 'C0DEED', 'profile_sidebar_fill_color': 'DDEEF6', 'profile_text_color': '333333', 'profile_use_background_image': True, 'has_extended_profile': True, 'default_profile': True, 'default_profile_image': True, 'following': False, 'follow_request_sent': False, 'notifications': False, 'translator_type': 'none'}, 'geo': None, 'coordinates': None, 'place': None, 'contributors': None, 'is_quote_status': False, 'retweet_count': 0, 'favorite_count': 0, 'favorited': False, 'retweeted': False, 'lang': 'en'}], 'search_metadata': {'completed_in': 0.02, 'max_id': 1344142598617899010, 'max_id_str': '1344142598617899010', 'next_results': '?max_id=1344142598617899009&q=%23FirstTimeEver&count=1&include_entities=1', 'query': '%23FirstTimeEver', 'refresh_url': '?since_id=1344142598617899010&q=%23FirstTimeEver&include_entities=1', 'count': 1, 'since_id': 0, 'since_id_str': '0'}}\n"
          ],
          "name": "stdout"
        }
      ]
    },
    {
      "cell_type": "code",
      "metadata": {
        "id": "Z9KyYKOBZGM4"
      },
      "source": [
        "data = crawled_files['statuses']\r\n",
        "#seperating the statuses of crawled_tweets"
      ],
      "execution_count": null,
      "outputs": []
    },
    {
      "cell_type": "code",
      "metadata": {
        "colab": {
          "base_uri": "https://localhost:8080/",
          "height": 52
        },
        "id": "OxbdQicOZdx-",
        "outputId": "5cbeaca6-ed29-4077-d5c9-b5e05ed144d7"
      },
      "source": [
        "text = [status['text'] for status in data]\r\n",
        "text[0]"
      ],
      "execution_count": null,
      "outputs": [
        {
          "output_type": "execute_result",
          "data": {
            "application/vnd.google.colaboratory.intrinsic+json": {
              "type": "string"
            },
            "text/plain": [
              "'RT @revue2presse: LOS ANGELES TIMES\\nhttps://t.co/szpXnMJkgQ #r2p #LATimes #California #LosAngeles #UE #USA #Biden #Trump #Coronavirus #Covi…'"
            ]
          },
          "metadata": {
            "tags": []
          },
          "execution_count": 42
        }
      ]
    },
    {
      "cell_type": "code",
      "metadata": {
        "id": "GnqFoLKSZncN"
      },
      "source": [
        "#extract the text from the list to split the words\r\n",
        "words=[i for t in text for i in t.split()]\r\n",
        "#text=[word_data for get_word in get_text for word_data in get_word.split()]"
      ],
      "execution_count": null,
      "outputs": []
    },
    {
      "cell_type": "code",
      "metadata": {
        "colab": {
          "base_uri": "https://localhost:8080/"
        },
        "id": "JfK_2I_fZ9D8",
        "outputId": "44b7cc04-de88-4561-b0d3-6dacba5d77f0"
      },
      "source": [
        "print(words)"
      ],
      "execution_count": null,
      "outputs": [
        {
          "output_type": "stream",
          "text": [
            "['RT', '@revue2presse:', 'LOS', 'ANGELES', 'TIMES', 'https://t.co/szpXnMJkgQ', '#r2p', '#LATimes', '#California', '#LosAngeles', '#UE', '#USA', '#Biden', '#Trump', '#Coronavirus', '#Covi…', 'RT', '@revue2presse:', 'LOS', 'ANGELES', 'TIMES', 'https://t.co/szpXnMJkgQ', '#r2p', '#LATimes', '#California', '#LosAngeles', '#UE', '#USA', '#Biden', '#Trump', '#Coronavirus', '#Covi…', 'LOS', 'ANGELES', 'TIMES', 'https://t.co/szpXnMJkgQ', '#r2p', '#LATimes', '#California', '#LosAngeles', '#UE', '#USA', '#Biden', '#Trump', '#Coronavirus…', 'https://t.co/TEAnsHuxx8', '#Lakers', '#LakeShow', '#CP3', 'https://t.co/NrUyWWaww3', 'Use', 'to', 'use', 'square', 'to', 'shoot', '#nba2k20', '#nba2k19', '#nba', '#basketball', '#ballislife', '#nba2k', '#lebronjames', '#nbabasketball…', 'https://t.co/ggKVOXYwzr', '@KingJames', '#nba', '#lebron', '#LeBronJames', '#lbj', '#NBAPlayoffs', '#LosAngeles', '#lakers', '#LakersNation', '#china', '@Nike', '#nike', 'https://t.co/HqsyLVRfJB', 'RT', '@LakerTaker9:', 'houston', 'rockets,', 'tyler', 'locketts,', 'farrah', 'fawcetts,', 'mfn', 'Davey', 'crocketts...don’t', 'matter', 'lake', 'sho', 'in', 'FO', '#lakers', 'https://t.co/s…', 'This', 'guy', 'is', 'such', 'an', 'amazing', 'LA', 'artist...check', 'out', 'the', 'rest', 'of', 'his', 'work...', '#Repost', '@therobertvargas', 'download.ins', '--…', 'https://t.co/n7yJxGJQBN', 'RT', '@TommyPointJon:', 'A', '#Celtics', 'vs', '#Lakers', '2020', 'NBA', 'Finals', 'would', 'be', 'the', 'ultimate', 'tribute', 'to', 'Kobe', 'Bryant.', 'LeBron', 'James,', 'his', 'rival', '&amp;', 'close', 'fri…', '@SeanDro_', 'Go', '#Lakers', 'https://t.co/wudmuR5cz6', 'It', 'took', '#HoustonRockets', 'a', '7', 'game', 'series', 'to', 'beat', '#OKC', 'how', 'do', 'y’all', 'think', 'y’all', 'really', 'going', 'to', 'do', 'vs', 'the', '#Lakers', '@IamArtizta', 'Boss', 'u', 'play', 'us', 'nxt.......', '#lakers', \"I'm\", 'predicting', 'a', 'clean', 'sweep...', '#Lakers', 'in', '4-0', 'the', 'Rockets', 'are', 'trash', '#Lakernation', 'What', 'you', 'got', 'on', 'the', '#Lakers', 'vs', 'my', '#Rockets', 'in', 'gm', 'one', 'Nephew?', 'I', 'need', 'some', 'Don', 'Julio', '1942', 'money...', '@FastMoneyNez', 'RT', '@LakerTaker9:', 'houston', 'rockets,', 'tyler', 'locketts,', 'farrah', 'fawcetts,', 'mfn', 'Davey', 'crocketts...don’t', 'matter', 'lake', 'sho', 'in', 'FO', '#lakers', 'https://t.co/s…', 'Column:', 'Beat', 'L.A.?', '#Rockets', 'must', 'be', 'much', 'better', 'to', 'upset', '#Lakers', 'https://t.co/S6Z6GzffPs', '#NBA', '@KY_TheGawd', 'Why', 'u', 'at', 'my', '#Lakers', '😭😭', 'got', 'dame', 'weak', 'ass', 'out', 'of', 'here!!!', 'Hahahaha', '#HoustonRockets', 'next', '💯', 'Learn', 'how', 'to', 'make', 'an', '#A-line', '#dress', '#FadedFtLOEY', '#LGBT', '#GovCuomo', '#PitMad', 'https://t.co/epuOpEezmr', '#ThursdayThoughts…', 'https://t.co/wRj5aeTnaf', 'RT', '@KLTS_SportsTalk:', 'Updated', 'Razz', '10', 'Spots', '$3', 'for', '1', '$5.50', 'for', '2', 'BMWT', 'Included', 'Winner', 'gets', 'all', '5', '@OnReplin', '@HobbyConnector', '@Hobby_Connect…', 'Updated', 'Razz', '10', 'Spots', '$3', 'for', '1', '$5.50', 'for', '2', 'BMWT', 'Included', 'Winner', 'gets', 'all', '5', '@OnReplin', '@HobbyConnector…', 'https://t.co/cvbjS1PKka', '@spudrph', '@ConklinLance', '@TimothyBlair', '@GlobeBobRyan', 'average', 'talent', 'in', 'the', 'league', 'right', 'now..', 'Had', 'LeBron', 'played', 'in', 'th…', 'https://t.co/EcBngJPNoo', 'RT', '@LakerTaker9:', 'houston', 'rockets,', 'tyler', 'locketts,', 'farrah', 'fawcetts,', 'mfn', 'Davey', 'crocketts...don’t', 'matter', 'lake', 'sho', 'in', 'FO', '#lakers', 'https://t.co/s…', 'RT', '@gokulgod007:', 'There’s', 'a', 'New', 'Federal', 'Freeze', 'on', 'Evictions.', 'Here’s', 'How', 'to', 'Claim', 'Protection', '#Lakers', '#FadedFtLOEY', '#あなたを漢字1文字で表現すると', 'you', 'like', 's…', 'Now', 'my', '#Lakers', 'got', 'Houston', 'n', 'they', 'broke', 'azz', 'system', 'Lakers', 'in', '5', 'Letz', 'Go', 'RT', '@mymixtapez:', 'Who', 'do', 'you', 'have', 'winning', 'in', 'the', '2nd', 'round', '#Lakers', 'or', '#Rockets?', 'https://t.co/Uuhcxw5RlX', 'Not', 'us.', 'We', 'do', 'need', 'a', 'good', 'point', 'guard.', 'Not', 'us', 'though.', '#Lakers', 'https://t.co/UoHM5RHuvo', 'Lakers', 'will', 'Lock', 'down', 'on', 'Laziness', '#NBA', '#NBAPlayoffs', '#Lakers', 'https://t.co/8EXfj0tak1', 'RT', '@LakerTaker9:', 'houston', 'rockets,', 'tyler', 'locketts,', 'farrah', 'fawcetts,', 'mfn', 'Davey', 'crocketts...don’t', 'matter', 'lake', 'sho', 'in', 'FO', '#lakers', 'https://t.co/s…', 'RT', '@SportsTalk790:', 'The', '#BigOne', 'on', 'the', '@SSalisburyShow:', 'Do', 'you', 'give', 'the', '#Rockets', 'a', 'legitimate', 'chance', 'vs', 'the', '#Lakers', 'in', 'round', '2?', '@SeanUnfilt…', 'Tomorrow', 'night,', 'join', 'us', 'for', 'dinner', '&amp;', 'drinks', 'on', 'our', 'patio!', 'Lakers/Rockets', 'on', 'the', 'big', 'screens', 'inside!', '6pm', '-', '1am.…', 'https://t.co/O1fCp6qjGB', 'HE', 'BETTER!', '#Lakers', 'gon', 'need', 'all', 'of', 'that.', 'https://t.co/NMTxuN223p', 'There’s', 'a', 'New', 'Federal', 'Freeze', 'on', 'Evictions.', 'Here’s', 'How', 'to', 'Claim', 'Protection', '#Lakers', '#FadedFtLOEY', '#あなたを漢字1文字で表現すると', 'you…', 'https://t.co/Rws9XjKTVd', 'RT', '@Aleyakhatun5:', 'Article', '#post', 'in', 'your', '#wordpress', '#website', 'https://t.co/n767IqOtrj', '#HallofFame', '#Lakers', '#Buhari', '#Pelosi', '#DrTheresaTam', '#Dwa…', 'Article', '#post', 'in', 'your', '#wordpress', '#website', 'https://t.co/n767IqOtrj', '#HallofFame', '#Lakers', '#Buhari', '#Pelosi…', 'https://t.co/yHmSvXW2Na', 'RT', '@LakerTaker9:', 'houston', 'rockets,', 'tyler', 'locketts,', 'farrah', 'fawcetts,', 'mfn', 'Davey', 'crocketts...don’t', 'matter', 'lake', 'sho', 'in', 'FO', '#lakers', 'https://t.co/s…', \"Who's\", 'better?', '#nba', '#nbatwitter', '#PollTime', '#PollOfTheDay', '#Lakers', '#Rockets', '#Blazers', 'RT', '@SportsTalk790:', 'The', '#BigOne', 'on', 'the', '@SSalisburyShow:', 'Do', 'you', 'give', 'the', '#Rockets', 'a', 'legitimate', 'chance', 'vs', 'the', '#Lakers', 'in', 'round', '2?', '@SeanUnfilt…', '#Lakers', 'bout', 'to', 'take', 'care', 'of', 'business.', '@astros', 'cheated', 'they', 'way', 'to', 'the', 'world', 'series', 'title', 'against', 'the', '@Dodgers.', 'Hou…', 'https://t.co/4rlpQ8dsWu', 'RT', '@LakerTaker9:', 'houston', 'rockets,', 'tyler', 'locketts,', 'farrah', 'fawcetts,', 'mfn', 'Davey', 'crocketts...don’t', 'matter', 'lake', 'sho', 'in', 'FO', '#lakers', 'https://t.co/s…', '@Lakers', '@LakersNation', '@LakersSBN', '@LakersReporter', 'https://t.co/dliTnWqWRA', '#LakeShow', '#Lakers', '#HOUvsLAL', '#NBAPlayoffs', 'This', 'is', 'a', 'mismatch...', '#Lakers', 'in', '5', 'Sosok', 'anjay', 'yang', 'sebenarnya..', '#BAEKHYUN', '#zico', '#puan', '#chanyeol', '#LGBT', '#lakers', '#Umur22', 'https://t.co/baEgOc7J7f', 'RT', '@LakerTaker9:', 'houston', 'rockets,', 'tyler', 'locketts,', 'farrah', 'fawcetts,', 'mfn', 'Davey', 'crocketts...don’t', 'matter', 'lake', 'sho', 'in', 'FO', '#lakers', 'https://t.co/s…', '#lebronjames', '#nba', '#basketball', '#lebron', '#lakers', '#k', '#kobebryant', '#ballislife', '#kingjames', '#kobe', '#kevindurant', '#jamesharden…', 'https://t.co/OHqwBNUe5c', 'Thank', 'you', 'Kwame', 'for', 'giving', 'us', 'banner', '15', 'and', '16.', 'Real', '#Lakers', 'fan', 'know', 'what', 'im', 'talkin', 'bout.', 'https://t.co/HNMeCSFZlL', 'I', 'will', 'do', 'beautiful', 'watercolor', 'logo', 'design', 'I', 'have', 'expertise', 'in', 'the', 'watercolor', 'logo,', 'signature', 'logo,', 'and', 'feminine', 'de…', 'https://t.co/aUNbot8saM', 'shittt', 'so', 'excited', 'lakers', 'vs', 'rockets', 'semifinals', 'conference.', 'Lakers', 'have', 'no', 'reason', 'to', 'lose,', 'goooo', '#Lakers', 'I', 'will', 'do', 'beautiful', 'watercolor', 'logo', 'design', 'I', 'have', 'expertise', 'in', 'the', 'watercolor', 'logo,', 'signature', 'logo,', 'and', 'feminine', 'de…', 'https://t.co/7glqhfFnwf', 'I', 'will', 'do', 'a', 'modern', 'creative', 'business', 'card', 'design', 'and', 'stationery.', 'Click', 'Here', 'And', 'Order', 'Now!!!…', 'https://t.co/M3mn7466fa', 'Who', 'you', 'got', 'winning', 'this', 'series??', '(Comment', 'below', 'also', 'how', 'many', 'games', 'you', 'think', 'it’ll', 'go', 'to', '⬇️⬇️)', '@Lakers…', 'https://t.co/fekz19hY9O', 'RT', '@MdSahidSikdar3:', '@TheDivineDreams', '@CMShehbaz', '#ImranKhanMustMeetQasim', '#عمران_خان_قاسم_کے_خواب_سنو', '#ShameOnCharlieHebdo', '#smolgang', '#DHACare…', 'Los', 'Rockets', 'eliminan', 'a', 'los', 'Thunder', 'y', 'se', 'enfrentarán', 'a', 'los', 'Lakers', 'en', 'las', 'semifinales', 'del', 'Oeste', '#basquetbol', '#deporte…', 'https://t.co/jkyRvfeyKP', 'The', 'table', 'of', 'risk', 'for', 'various', '#minerals', '&amp;', 'which', 'technologies', 'are', 'at', 'the', 'highest', '#risk', 'are', 'on', 'the', 'Y-axis.', '.', 'The', 'X-ax…', 'https://t.co/JjzERuTr23', 'RT', '@SportsTalk790:', 'The', '#BigOne', 'on', 'the', '@SSalisburyShow:', 'Do', 'you', 'give', 'the', '#Rockets', 'a', 'legitimate', 'chance', 'vs', 'the', '#Lakers', 'in', 'round', '2?', '@SeanUnfilt…', 'RT', '@SportsTalk790:', 'The', '#BigOne', 'on', 'the', '@SSalisburyShow:', 'Do', 'you', 'give', 'the', '#Rockets', 'a', 'legitimate', 'chance', 'vs', 'the', '#Lakers', 'in', 'round', '2?', '@SeanUnfilt…', 'The', '#BigOne', 'on', 'the', '@SSalisburyShow:', 'Do', 'you', 'give', 'the', '#Rockets', 'a', 'legitimate', 'chance', 'vs', 'the', '#Lakers', 'in', 'round', '2?…', 'https://t.co/imobnRXq6c', 'Les', 'playoffs', 'NBA', 'sont', 'surprenant.', 'Je', 'verrai', 'bien', 'une', 'finale', 'Celtics', 'contre', 'une', 'équipe', 'de', 'LA.', '#NBA', '#Clippers', '#Lakers', '#playoffsNBA', 'RT', '@Mrchinedu1256:', 'What', 'a', 'magnificent', 'winning', 'from', '@Emmanuelbest125', 'Am', 'so', 'grateful', 'sir.', 'I', 'have', 'never', 'lost', 'a', 'single', 'bet', 'since', 'I', 'started', 'buyi…', 'https://t.co/nhzOSg3Ulu…', '#doncic', '#porzingis', '#cp3', '#paulgeorge', '#anthonydavis', '#zion', '#murray', '#ıverson', '#KobeBryant…', 'https://t.co/ENzA2XOCfy', 'RT', '@LakerTaker9:', 'houston', 'rockets,', 'tyler', 'locketts,', 'farrah', 'fawcetts,', 'mfn', 'Davey', 'crocketts...don’t', 'matter', 'lake', 'sho', 'in', 'FO', '#lakers', 'https://t.co/s…', '@Lakers', \"Don't\", 'get', 'too', 'rusty', '#Lakers', 'make', 'the', '#Rockets', 'run', 'outta', 'gas!', '#HOUvsLAL', '#NBAPlayoffs', 'Welsh', 'Rarebit', 'Day', '2020', 'https://t.co/AvT0Vh3was', '#Lakers', 'I', 'got', '#lakers', 'rockets', 'forever', 'will', 'be', 'ass', 'RT', '@Paul_Fadel:', \"Here's\", 'the', 'updated', 'NBA', 'Playoffs', 'schedule', 'of', 'games', 'to', 'be', 'shown', 'on', '@beINSPORTS', 'for', 'the', 'next', 'few', 'days.', 'All', 'Times', 'GMT', 'For', 'bro…', '@NBA', '@HoustonRockets', 'Get', 'ready', '@Lakers', 'to', 'deal', 'with', 'the', '@HoustonRockets', 'tomorrow!', '#LakeShow', '#Lakers', '#HOUvsLAL', '#NBAPlayoffs', 'If', \"you're\", 'already', 'tired', 'of', 'talking', 'about', 'NBA', 'officiating,', 'listen', 'to', '@ADBPhotoInc', 'telling', 'us', 'about', 'the', 'time', '@Shaq', 'fe…', 'https://t.co/vcBQkUJV2s', 'Thailand', 'to', 'jail', 'rights', 'lawyer', 'Anon', 'Nampa,', 'activist', 'for', 'bail', 'terms', 'breach:', 'lawyer', '#BAD_BLOOD', '#Lakers', '#FadedFtLOEY', 'https://t.co/Uuah30rhOZ', '#Rockets', 'cumplen', 'y', 'jugarán', 'en', 'semifinales', 'vs', '#Lakers.', 'Ventaja', 'para', 'los', 'de', 'LA,', 'y', 'con', 'varios', 'días', 'de', 'descanso', 'RT', '@Benjitto:', 'Maillot', 'du', 'jour', ':', 'NBA', 'ALL', 'STAR', 'REVERSIBLE', 'MESH', 'JERSEY', '-', 'MAGIC', 'JOHNSON', '#BenjittoSportsCards', '#NBA', '#Lakers', '#Mitchell&amp;Ness', '#AllSt…', 'RT', '@LakerTaker9:', 'houston', 'rockets,', 'tyler', 'locketts,', 'farrah', 'fawcetts,', 'mfn', 'Davey', 'crocketts...don’t', 'matter', 'lake', 'sho', 'in', 'FO', '#lakers', 'https://t.co/s…', 'You', 'know,', 'now', 'that', \"I'm\", 'thinking', 'of', 'it,', 'the', 'last', 'time', '#LeBronJames', 'was', 'on', 'the', 'team', 'that', 'was', 'the', 'so', 'called', '\"underdogs…', 'https://t.co/MeQvzNHn2b', 'Ahora', 'que', 'los', '#Lakers', 'ya', 'tienen', 'rival', 'para', 'la', 'siguiente', 'ronda', 'de', '#NBAPlayoffs,', '¿qué', 'tienen', 'que', 'mejorar?', 'https://t.co/5lJ2hLD05I', 'Imagine', 'the', '#Rockets', '🚀', 'playing', 'the', '#Lakers', 'in', 'the', 'second', 'round?', 'lol', 'might', 'as', 'well', 'take', 'us', 'to', 'the', 'finals', 'because', 'it’…', 'https://t.co/674KZxSyLr', 'Hong', 'Kong', 'court', 'says', 'media', 'tycoon', 'Jimmy', 'Lai', 'not', 'guilty', 'of', 'criminal', 'intimidation', 'in', '2017', 'case', '#BAD_BLOOD', '#Lakers…', 'https://t.co/OIunPhH3Sp', 'Maillot', 'du', 'jour', ':', 'NBA', 'ALL', 'STAR', 'REVERSIBLE', 'MESH', 'JERSEY', '-', 'MAGIC', 'JOHNSON', '#BenjittoSportsCards', '#NBA', '#Lakers', '#Mitchell&amp;N…', 'https://t.co/t7vCeGX8WR', 'RT', '@MdSahidSikdar3:', '@TheDivineDreams', '@CMShehbaz', '#ImranKhanMustMeetQasim', '#عمران_خان_قاسم_کے_خواب_سنو', '#ShameOnCharlieHebdo', '#smolgang', '#DHACare…', '#Lakers', 'by', 'a', 'thousand', 'in', 'all', 'four', 'games.', 'https://t.co/BT71gcNWQJ', \"Japan's\", 'Suga', 'pledges', 'focus', 'on', 'coronavirus', 'but', 'details', 'remain', 'sketchy', '#BAD_BLOOD', '#Lakers', '#FadedFtLOEY', 'https://t.co/0Di09opzga', '@TheDivineDreams', '@CMShehbaz', '#ImranKhanMustMeetQasim', '#عمران_خان_قاسم_کے_خواب_سنو', '#ShameOnCharlieHebdo', '#smolgang…', 'https://t.co/1Y0giaTKYy', 'Backroom', 'deals,', 'old-school', 'politics', 'help', 'rise', 'of', \"Japan's\", 'likely', 'new', 'premier', '#BAD_BLOOD', '#Lakers', '#FadedFtLOEY', 'https://t.co/qeEN0Wc42S']\n"
          ],
          "name": "stdout"
        }
      ]
    },
    {
      "cell_type": "code",
      "metadata": {
        "id": "jpD_sISKaJOf"
      },
      "source": [
        "#importing the packages\r\n",
        "import re\r\n",
        "import matplotlib.pyplot as plt\r\n",
        "import seaborn as sns\r\n",
        "import nltk\r\n",
        "import numpy as np"
      ],
      "execution_count": null,
      "outputs": []
    },
    {
      "cell_type": "code",
      "metadata": {
        "id": "yRPABg-iaST-"
      },
      "source": [
        "from nltk.util import ngrams\r\n",
        "from collections import Counter"
      ],
      "execution_count": null,
      "outputs": []
    },
    {
      "cell_type": "code",
      "metadata": {
        "colab": {
          "base_uri": "https://localhost:8080/"
        },
        "id": "oS7ikMd4aYCE",
        "outputId": "0e5e62cf-82be-4494-9b19-658ee43dc1f8"
      },
      "source": [
        "for item in [words]:\r\n",
        "    common_words = Counter(item)\r\n",
        "    most_common_words=common_words.most_common()[:10]\r\n",
        "    print(most_common_words)"
      ],
      "execution_count": null,
      "outputs": [
        {
          "output_type": "stream",
          "text": [
            "[('the', 41), ('#Lakers', 40), ('in', 28), ('RT', 25), ('to', 18), ('a', 17), ('on', 15), ('#lakers', 14), ('you', 11), ('#Rockets', 11)]\n"
          ],
          "name": "stdout"
        }
      ]
    },
    {
      "cell_type": "code",
      "metadata": {
        "id": "vxGnQ0yfabX8"
      },
      "source": [
        "from nltk.probability import FreqDist"
      ],
      "execution_count": null,
      "outputs": []
    },
    {
      "cell_type": "code",
      "metadata": {
        "id": "0x2HbNz6atRF"
      },
      "source": [
        "#freq_text = [FreqDist(words_freq) for words_freq in [text]]\r\n",
        "\r\n",
        "for words_freq in [words]:\r\n",
        "  freq_text = FreqDist(words_freq)"
      ],
      "execution_count": null,
      "outputs": []
    },
    {
      "cell_type": "code",
      "metadata": {
        "colab": {
          "base_uri": "https://localhost:8080/"
        },
        "id": "BRG277rYa_mj",
        "outputId": "9bf5ac0c-0167-4ed2-973f-7206dc1d3ddc"
      },
      "source": [
        "print(freq_text)"
      ],
      "execution_count": null,
      "outputs": [
        {
          "output_type": "stream",
          "text": [
            "<FreqDist with 652 samples and 1296 outcomes>\n"
          ],
          "name": "stdout"
        }
      ]
    },
    {
      "cell_type": "code",
      "metadata": {
        "colab": {
          "base_uri": "https://localhost:8080/",
          "height": 316
        },
        "id": "1NfuaJYYbFJF",
        "outputId": "5ce81c3c-97d5-4d44-c4ae-f08e38725951"
      },
      "source": [
        "freq_text.plot(10)"
      ],
      "execution_count": null,
      "outputs": [
        {
          "output_type": "display_data",
          "data": {
            "image/png": "[encoded data removed]",
            "text/plain": [
              "<Figure size 432x288 with 1 Axes>"
            ]
          },
          "metadata": {
            "tags": [],
            "needs_background": "light"
          }
        }
      ]
    },
    {
      "cell_type": "code",
      "metadata": {
        "id": "ZhcypS-lbUc5"
      },
      "source": [
        ""
      ],
      "execution_count": null,
      "outputs": []
    }
  ]
}