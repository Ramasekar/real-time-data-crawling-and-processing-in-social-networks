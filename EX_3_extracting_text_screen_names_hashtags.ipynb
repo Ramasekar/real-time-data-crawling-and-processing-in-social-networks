{
  "nbformat": 4,
  "nbformat_minor": 0,
  "metadata": {
    "colab": {
      "name": "EX_3_extracting_text_screen_names_hashtags.ipynb",
      "provenance": [],
      "collapsed_sections": []
    },
    "kernelspec": {
      "name": "python3",
      "display_name": "Python 3"
    }
  },
  "cells": [
    {
      "cell_type": "code",
      "metadata": {
        "colab": {
          "base_uri": "https://localhost:8080/"
        },
        "id": "QpbCjXwFfSa7",
        "outputId": "1de8f6db-2b4a-451c-cd64-e89afad906e4"
      },
      "source": [
        "pip install twitter"
      ],
      "execution_count": 2,
      "outputs": [
        {
          "output_type": "stream",
          "text": [
            "Collecting twitter\n",
            "\u001b[?25l  Downloading https://files.pythonhosted.org/packages/85/e2/f602e3f584503f03e0389491b251464f8ecfe2596ac86e6b9068fe7419d3/twitter-1.18.0-py2.py3-none-any.whl (54kB)\n",
            "\r\u001b[K     |██████                          | 10kB 14.1MB/s eta 0:00:01\r\u001b[K     |████████████                    | 20kB 19.4MB/s eta 0:00:01\r\u001b[K     |██████████████████              | 30kB 23.2MB/s eta 0:00:01\r\u001b[K     |████████████████████████        | 40kB 17.4MB/s eta 0:00:01\r\u001b[K     |██████████████████████████████▏ | 51kB 16.6MB/s eta 0:00:01\r\u001b[K     |████████████████████████████████| 61kB 4.6MB/s \n",
            "\u001b[?25hInstalling collected packages: twitter\n",
            "Successfully installed twitter-1.18.0\n"
          ],
          "name": "stdout"
        }
      ]
    },
    {
      "cell_type": "code",
      "metadata": {
        "id": "uGdimsx_gbYl"
      },
      "source": [
        "import twitter"
      ],
      "execution_count": 3,
      "outputs": []
    },
    {
      "cell_type": "code",
      "metadata": {
        "id": "dlpjtVVbgrm0"
      },
      "source": [
        "CONSUMER_KEY = \"+++++++++++++++++++++++++++++++++\"\r\n",
        "CONSUMER_SECRET = \"++++++++++++++++++++++++++++++++++++++++\"\r\n",
        "\r\n",
        "OAUTH_TOKEN = \"+++++++++++++++++++++++++++++++++\"\r\n",
        "OAUTH_TOKEN_SECRET = \"++++++++++++++++++++++++++++++++++++++++++\"\"\r\n",
        "\r\n",
        "auth=twitter.oauth.OAuth(OAUTH_TOKEN,OAUTH_TOKEN_SECRET,CONSUMER_KEY,CONSUMER_SECRET)\r\n",
        "twitter_api=twitter.Twitter(auth=auth)"
      ],
      "execution_count": 4,
      "outputs": []
    },
    {
      "cell_type": "code",
      "metadata": {
        "colab": {
          "base_uri": "https://localhost:8080/"
        },
        "id": "XpDcNFnFgsus",
        "outputId": "9555f349-bab7-4e2d-8cec-42aaf02b8d5f"
      },
      "source": [
        "trend_tweet='#TuesdayThoughts'\r\n",
        "count=1\r\n",
        "search_result=twitter_api.search.tweets(q=trend_tweet,count=count)\r\n",
        "print(search_result)"
      ],
      "execution_count": 5,
      "outputs": [
        {
          "output_type": "stream",
          "text": [
            "{'statuses': [{'created_at': 'Wed Dec 30 07:19:20 +0000 2020', 'id': 1344181259887468544, 'id_str': '1344181259887468544', 'text': 'RT @gayatrisant70: #TuesdayThoughts\\nIt Is Written In\\xa0Yajurved Adhyay 19 Mantra 25, 26that a True Guru will elaborate the incomplete sentenc…', 'truncated': False, 'entities': {'hashtags': [{'text': 'TuesdayThoughts', 'indices': [19, 35]}], 'symbols': [], 'user_mentions': [{'screen_name': 'gayatrisant70', 'name': '🌹Gayatri Sant🌹', 'id': 1108908514410483712, 'id_str': '1108908514410483712', 'indices': [3, 17]}], 'urls': []}, 'metadata': {'iso_language_code': 'en', 'result_type': 'recent'}, 'source': '<a href=\"http://twitter.com/download/android\" rel=\"nofollow\">Twitter for Android</a>', 'in_reply_to_status_id': None, 'in_reply_to_status_id_str': None, 'in_reply_to_user_id': None, 'in_reply_to_user_id_str': None, 'in_reply_to_screen_name': None, 'user': {'id': 1173526141874909184, 'id_str': '1173526141874909184', 'name': 'Siyaram Yadav', 'screen_name': 'Siyaramyadav91', 'location': '', 'description': 'Sat saheb', 'url': None, 'entities': {'description': {'urls': []}}, 'protected': False, 'followers_count': 377, 'friends_count': 37, 'listed_count': 0, 'created_at': 'Mon Sep 16 09:18:51 +0000 2019', 'favourites_count': 60402, 'utc_offset': None, 'time_zone': None, 'geo_enabled': False, 'verified': False, 'statuses_count': 60738, 'lang': None, 'contributors_enabled': False, 'is_translator': False, 'is_translation_enabled': False, 'profile_background_color': 'F5F8FA', 'profile_background_image_url': None, 'profile_background_image_url_https': None, 'profile_background_tile': False, 'profile_image_url': 'http://pbs.twimg.com/profile_images/1173526892948987905/fKMCz7bA_normal.jpg', 'profile_image_url_https': 'https://pbs.twimg.com/profile_images/1173526892948987905/fKMCz7bA_normal.jpg', 'profile_link_color': '1DA1F2', 'profile_sidebar_border_color': 'C0DEED', 'profile_sidebar_fill_color': 'DDEEF6', 'profile_text_color': '333333', 'profile_use_background_image': True, 'has_extended_profile': True, 'default_profile': True, 'default_profile_image': False, 'following': False, 'follow_request_sent': False, 'notifications': False, 'translator_type': 'none'}, 'geo': None, 'coordinates': None, 'place': None, 'contributors': None, 'retweeted_status': {'created_at': 'Tue Dec 29 01:58:56 +0000 2020', 'id': 1343738240533147654, 'id_str': '1343738240533147654', 'text': '#TuesdayThoughts\\nIt Is Written In\\xa0Yajurved Adhyay 19 Mantra 25, 26that a True Guru will elaborate the incomplete se… https://t.co/NoP0mxpTiU', 'truncated': True, 'entities': {'hashtags': [{'text': 'TuesdayThoughts', 'indices': [0, 16]}], 'symbols': [], 'user_mentions': [], 'urls': [{'url': 'https://t.co/NoP0mxpTiU', 'expanded_url': 'https://twitter.com/i/web/status/1343738240533147654', 'display_url': 'twitter.com/i/web/status/1…', 'indices': [117, 140]}]}, 'metadata': {'iso_language_code': 'en', 'result_type': 'recent'}, 'source': '<a href=\"http://twitter.com/download/android\" rel=\"nofollow\">Twitter for Android</a>', 'in_reply_to_status_id': None, 'in_reply_to_status_id_str': None, 'in_reply_to_user_id': None, 'in_reply_to_user_id_str': None, 'in_reply_to_screen_name': None, 'user': {'id': 1108908514410483712, 'id_str': '1108908514410483712', 'name': '🌹Gayatri Sant🌹', 'screen_name': 'gayatrisant70', 'location': 'Ghansaur, India', 'description': 'Teacher', 'url': None, 'entities': {'description': {'urls': []}}, 'protected': False, 'followers_count': 1062, 'friends_count': 340, 'listed_count': 1, 'created_at': 'Fri Mar 22 01:49:27 +0000 2019', 'favourites_count': 14752, 'utc_offset': None, 'time_zone': None, 'geo_enabled': False, 'verified': False, 'statuses_count': 15135, 'lang': None, 'contributors_enabled': False, 'is_translator': False, 'is_translation_enabled': False, 'profile_background_color': 'F5F8FA', 'profile_background_image_url': None, 'profile_background_image_url_https': None, 'profile_background_tile': False, 'profile_image_url': 'http://pbs.twimg.com/profile_images/1321036849431785473/1PJzlAnl_normal.jpg', 'profile_image_url_https': 'https://pbs.twimg.com/profile_images/1321036849431785473/1PJzlAnl_normal.jpg', 'profile_banner_url': 'https://pbs.twimg.com/profile_banners/1108908514410483712/1603796370', 'profile_link_color': '1DA1F2', 'profile_sidebar_border_color': 'C0DEED', 'profile_sidebar_fill_color': 'DDEEF6', 'profile_text_color': '333333', 'profile_use_background_image': True, 'has_extended_profile': True, 'default_profile': True, 'default_profile_image': False, 'following': False, 'follow_request_sent': False, 'notifications': False, 'translator_type': 'none'}, 'geo': None, 'coordinates': None, 'place': None, 'contributors': None, 'is_quote_status': False, 'retweet_count': 28, 'favorite_count': 31, 'favorited': False, 'retweeted': False, 'possibly_sensitive': False, 'lang': 'en'}, 'is_quote_status': False, 'retweet_count': 28, 'favorite_count': 0, 'favorited': False, 'retweeted': False, 'lang': 'en'}], 'search_metadata': {'completed_in': 0.027, 'max_id': 1344181259887468544, 'max_id_str': '1344181259887468544', 'next_results': '?max_id=1344181259887468543&q=%23TuesdayThoughts&count=1&include_entities=1', 'query': '%23TuesdayThoughts', 'refresh_url': '?since_id=1344181259887468544&q=%23TuesdayThoughts&include_entities=1', 'count': 1, 'since_id': 0, 'since_id_str': '0'}}\n"
          ],
          "name": "stdout"
        }
      ]
    },
    {
      "cell_type": "code",
      "metadata": {
        "id": "ZdbCdbY1hBBB"
      },
      "source": [
        "statuses=search_result['statuses']"
      ],
      "execution_count": 6,
      "outputs": []
    },
    {
      "cell_type": "code",
      "metadata": {
        "id": "FKPPloahhJpb"
      },
      "source": [
        "status_texts = [ status['text'] \r\n",
        "                 for status in statuses ]"
      ],
      "execution_count": 7,
      "outputs": []
    },
    {
      "cell_type": "code",
      "metadata": {
        "colab": {
          "base_uri": "https://localhost:8080/"
        },
        "id": "sHXDuCjrhOFP",
        "outputId": "bbb3423d-f866-49f1-adf4-a8ea19de144a"
      },
      "source": [
        "statuses"
      ],
      "execution_count": 8,
      "outputs": [
        {
          "output_type": "execute_result",
          "data": {
            "text/plain": [
              "[{'contributors': None,\n",
              "  'coordinates': None,\n",
              "  'created_at': 'Wed Dec 30 07:19:20 +0000 2020',\n",
              "  'entities': {'hashtags': [{'indices': [19, 35], 'text': 'TuesdayThoughts'}],\n",
              "   'symbols': [],\n",
              "   'urls': [],\n",
              "   'user_mentions': [{'id': 1108908514410483712,\n",
              "     'id_str': '1108908514410483712',\n",
              "     'indices': [3, 17],\n",
              "     'name': '🌹Gayatri Sant🌹',\n",
              "     'screen_name': 'gayatrisant70'}]},\n",
              "  'favorite_count': 0,\n",
              "  'favorited': False,\n",
              "  'geo': None,\n",
              "  'id': 1344181259887468544,\n",
              "  'id_str': '1344181259887468544',\n",
              "  'in_reply_to_screen_name': None,\n",
              "  'in_reply_to_status_id': None,\n",
              "  'in_reply_to_status_id_str': None,\n",
              "  'in_reply_to_user_id': None,\n",
              "  'in_reply_to_user_id_str': None,\n",
              "  'is_quote_status': False,\n",
              "  'lang': 'en',\n",
              "  'metadata': {'iso_language_code': 'en', 'result_type': 'recent'},\n",
              "  'place': None,\n",
              "  'retweet_count': 28,\n",
              "  'retweeted': False,\n",
              "  'retweeted_status': {'contributors': None,\n",
              "   'coordinates': None,\n",
              "   'created_at': 'Tue Dec 29 01:58:56 +0000 2020',\n",
              "   'entities': {'hashtags': [{'indices': [0, 16], 'text': 'TuesdayThoughts'}],\n",
              "    'symbols': [],\n",
              "    'urls': [{'display_url': 'twitter.com/i/web/status/1…',\n",
              "      'expanded_url': 'https://twitter.com/i/web/status/1343738240533147654',\n",
              "      'indices': [117, 140],\n",
              "      'url': 'https://t.co/NoP0mxpTiU'}],\n",
              "    'user_mentions': []},\n",
              "   'favorite_count': 31,\n",
              "   'favorited': False,\n",
              "   'geo': None,\n",
              "   'id': 1343738240533147654,\n",
              "   'id_str': '1343738240533147654',\n",
              "   'in_reply_to_screen_name': None,\n",
              "   'in_reply_to_status_id': None,\n",
              "   'in_reply_to_status_id_str': None,\n",
              "   'in_reply_to_user_id': None,\n",
              "   'in_reply_to_user_id_str': None,\n",
              "   'is_quote_status': False,\n",
              "   'lang': 'en',\n",
              "   'metadata': {'iso_language_code': 'en', 'result_type': 'recent'},\n",
              "   'place': None,\n",
              "   'possibly_sensitive': False,\n",
              "   'retweet_count': 28,\n",
              "   'retweeted': False,\n",
              "   'source': '<a href=\"http://twitter.com/download/android\" rel=\"nofollow\">Twitter for Android</a>',\n",
              "   'text': '#TuesdayThoughts\\nIt Is Written In\\xa0Yajurved Adhyay 19 Mantra 25, 26that a True Guru will elaborate the incomplete se… https://t.co/NoP0mxpTiU',\n",
              "   'truncated': True,\n",
              "   'user': {'contributors_enabled': False,\n",
              "    'created_at': 'Fri Mar 22 01:49:27 +0000 2019',\n",
              "    'default_profile': True,\n",
              "    'default_profile_image': False,\n",
              "    'description': 'Teacher',\n",
              "    'entities': {'description': {'urls': []}},\n",
              "    'favourites_count': 14752,\n",
              "    'follow_request_sent': False,\n",
              "    'followers_count': 1062,\n",
              "    'following': False,\n",
              "    'friends_count': 340,\n",
              "    'geo_enabled': False,\n",
              "    'has_extended_profile': True,\n",
              "    'id': 1108908514410483712,\n",
              "    'id_str': '1108908514410483712',\n",
              "    'is_translation_enabled': False,\n",
              "    'is_translator': False,\n",
              "    'lang': None,\n",
              "    'listed_count': 1,\n",
              "    'location': 'Ghansaur, India',\n",
              "    'name': '🌹Gayatri Sant🌹',\n",
              "    'notifications': False,\n",
              "    'profile_background_color': 'F5F8FA',\n",
              "    'profile_background_image_url': None,\n",
              "    'profile_background_image_url_https': None,\n",
              "    'profile_background_tile': False,\n",
              "    'profile_banner_url': 'https://pbs.twimg.com/profile_banners/1108908514410483712/1603796370',\n",
              "    'profile_image_url': 'http://pbs.twimg.com/profile_images/1321036849431785473/1PJzlAnl_normal.jpg',\n",
              "    'profile_image_url_https': 'https://pbs.twimg.com/profile_images/1321036849431785473/1PJzlAnl_normal.jpg',\n",
              "    'profile_link_color': '1DA1F2',\n",
              "    'profile_sidebar_border_color': 'C0DEED',\n",
              "    'profile_sidebar_fill_color': 'DDEEF6',\n",
              "    'profile_text_color': '333333',\n",
              "    'profile_use_background_image': True,\n",
              "    'protected': False,\n",
              "    'screen_name': 'gayatrisant70',\n",
              "    'statuses_count': 15135,\n",
              "    'time_zone': None,\n",
              "    'translator_type': 'none',\n",
              "    'url': None,\n",
              "    'utc_offset': None,\n",
              "    'verified': False}},\n",
              "  'source': '<a href=\"http://twitter.com/download/android\" rel=\"nofollow\">Twitter for Android</a>',\n",
              "  'text': 'RT @gayatrisant70: #TuesdayThoughts\\nIt Is Written In\\xa0Yajurved Adhyay 19 Mantra 25, 26that a True Guru will elaborate the incomplete sentenc…',\n",
              "  'truncated': False,\n",
              "  'user': {'contributors_enabled': False,\n",
              "   'created_at': 'Mon Sep 16 09:18:51 +0000 2019',\n",
              "   'default_profile': True,\n",
              "   'default_profile_image': False,\n",
              "   'description': 'Sat saheb',\n",
              "   'entities': {'description': {'urls': []}},\n",
              "   'favourites_count': 60402,\n",
              "   'follow_request_sent': False,\n",
              "   'followers_count': 377,\n",
              "   'following': False,\n",
              "   'friends_count': 37,\n",
              "   'geo_enabled': False,\n",
              "   'has_extended_profile': True,\n",
              "   'id': 1173526141874909184,\n",
              "   'id_str': '1173526141874909184',\n",
              "   'is_translation_enabled': False,\n",
              "   'is_translator': False,\n",
              "   'lang': None,\n",
              "   'listed_count': 0,\n",
              "   'location': '',\n",
              "   'name': 'Siyaram Yadav',\n",
              "   'notifications': False,\n",
              "   'profile_background_color': 'F5F8FA',\n",
              "   'profile_background_image_url': None,\n",
              "   'profile_background_image_url_https': None,\n",
              "   'profile_background_tile': False,\n",
              "   'profile_image_url': 'http://pbs.twimg.com/profile_images/1173526892948987905/fKMCz7bA_normal.jpg',\n",
              "   'profile_image_url_https': 'https://pbs.twimg.com/profile_images/1173526892948987905/fKMCz7bA_normal.jpg',\n",
              "   'profile_link_color': '1DA1F2',\n",
              "   'profile_sidebar_border_color': 'C0DEED',\n",
              "   'profile_sidebar_fill_color': 'DDEEF6',\n",
              "   'profile_text_color': '333333',\n",
              "   'profile_use_background_image': True,\n",
              "   'protected': False,\n",
              "   'screen_name': 'Siyaramyadav91',\n",
              "   'statuses_count': 60738,\n",
              "   'time_zone': None,\n",
              "   'translator_type': 'none',\n",
              "   'url': None,\n",
              "   'utc_offset': None,\n",
              "   'verified': False}}]"
            ]
          },
          "metadata": {
            "tags": []
          },
          "execution_count": 8
        }
      ]
    },
    {
      "cell_type": "code",
      "metadata": {
        "colab": {
          "base_uri": "https://localhost:8080/"
        },
        "id": "MyyI4suPhS_6",
        "outputId": "16dd5555-22e8-40c2-acae-9635c4e90d6b"
      },
      "source": [
        "status_texts"
      ],
      "execution_count": 9,
      "outputs": [
        {
          "output_type": "execute_result",
          "data": {
            "text/plain": [
              "['RT @gayatrisant70: #TuesdayThoughts\\nIt Is Written In\\xa0Yajurved Adhyay 19 Mantra 25, 26that a True Guru will elaborate the incomplete sentenc…']"
            ]
          },
          "metadata": {
            "tags": []
          },
          "execution_count": 9
        }
      ]
    },
    {
      "cell_type": "code",
      "metadata": {
        "id": "m1M4ehrrhWQp"
      },
      "source": [
        "screen_names = [ user_mention['screen_name'] \r\n",
        "                 for status in statuses\r\n",
        "                     for user_mention in status['entities']['user_mentions'] ]"
      ],
      "execution_count": 10,
      "outputs": []
    },
    {
      "cell_type": "code",
      "metadata": {
        "colab": {
          "base_uri": "https://localhost:8080/"
        },
        "id": "akn3z5QHhZJM",
        "outputId": "ade30ce2-76ab-445c-90ca-84e1555b5340"
      },
      "source": [
        "screen_names"
      ],
      "execution_count": 11,
      "outputs": [
        {
          "output_type": "execute_result",
          "data": {
            "text/plain": [
              "['gayatrisant70']"
            ]
          },
          "metadata": {
            "tags": []
          },
          "execution_count": 11
        }
      ]
    },
    {
      "cell_type": "code",
      "metadata": {
        "id": "f4aKEvDxhahd"
      },
      "source": [
        "hashtags = [ hashtag['text'] \r\n",
        "             for status in statuses\r\n",
        "                 for hashtag in status['entities']['hashtags'] ]"
      ],
      "execution_count": 12,
      "outputs": []
    },
    {
      "cell_type": "code",
      "metadata": {
        "colab": {
          "base_uri": "https://localhost:8080/"
        },
        "id": "AQt9CxQXhcB1",
        "outputId": "68a92689-4ecf-4584-b8fe-70fd4017c132"
      },
      "source": [
        "hashtags"
      ],
      "execution_count": 13,
      "outputs": [
        {
          "output_type": "execute_result",
          "data": {
            "text/plain": [
              "['TuesdayThoughts']"
            ]
          },
          "metadata": {
            "tags": []
          },
          "execution_count": 13
        }
      ]
    },
    {
      "cell_type": "code",
      "metadata": {
        "id": "Js2i06FFhdZy"
      },
      "source": [
        "text = [ w \r\n",
        "          for t in status_texts \r\n",
        "              for w in t.split() ]"
      ],
      "execution_count": 14,
      "outputs": []
    },
    {
      "cell_type": "code",
      "metadata": {
        "colab": {
          "base_uri": "https://localhost:8080/"
        },
        "id": "X-UMhUuLhkMM",
        "outputId": "e2bb0cdc-64f2-4791-99a0-f695833418b5"
      },
      "source": [
        "text"
      ],
      "execution_count": 15,
      "outputs": [
        {
          "output_type": "execute_result",
          "data": {
            "text/plain": [
              "['RT',\n",
              " '@gayatrisant70:',\n",
              " '#TuesdayThoughts',\n",
              " 'It',\n",
              " 'Is',\n",
              " 'Written',\n",
              " 'In',\n",
              " 'Yajurved',\n",
              " 'Adhyay',\n",
              " '19',\n",
              " 'Mantra',\n",
              " '25,',\n",
              " '26that',\n",
              " 'a',\n",
              " 'True',\n",
              " 'Guru',\n",
              " 'will',\n",
              " 'elaborate',\n",
              " 'the',\n",
              " 'incomplete',\n",
              " 'sentenc…']"
            ]
          },
          "metadata": {
            "tags": []
          },
          "execution_count": 15
        }
      ]
    },
    {
      "cell_type": "code",
      "metadata": {
        "id": "psJROAO9h2I3"
      },
      "source": [
        ""
      ],
      "execution_count": null,
      "outputs": []
    }
  ]
}