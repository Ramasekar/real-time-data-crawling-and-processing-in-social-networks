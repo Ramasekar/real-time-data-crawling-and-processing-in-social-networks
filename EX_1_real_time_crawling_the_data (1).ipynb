{
  "nbformat": 4,
  "nbformat_minor": 0,
  "metadata": {
    "colab": {
      "name": "EX_1_real_time_crawling_the_data.ipynb",
      "provenance": [],
      "collapsed_sections": []
    },
    "kernelspec": {
      "name": "python3",
      "display_name": "Python 3"
    }
  },
  "cells": [
    {
      "cell_type": "code",
      "metadata": {
        "colab": {
          "base_uri": "https://localhost:8080/"
        },
        "id": "AMUx3VniOGqQ",
        "outputId": "74b3631b-3001-4a6f-e5ce-be9858fc42b7"
      },
      "source": [
        "pip install tweepy"
      ],
      "execution_count": 3,
      "outputs": [
        {
          "output_type": "stream",
          "text": [
            "Requirement already satisfied: tweepy in /usr/local/lib/python3.6/dist-packages (3.6.0)\n",
            "Requirement already satisfied: requests-oauthlib>=0.7.0 in /usr/local/lib/python3.6/dist-packages (from tweepy) (1.3.0)\n",
            "Requirement already satisfied: six>=1.10.0 in /usr/local/lib/python3.6/dist-packages (from tweepy) (1.15.0)\n",
            "Requirement already satisfied: PySocks>=1.5.7 in /usr/local/lib/python3.6/dist-packages (from tweepy) (1.7.1)\n",
            "Requirement already satisfied: requests>=2.11.1 in /usr/local/lib/python3.6/dist-packages (from tweepy) (2.23.0)\n",
            "Requirement already satisfied: oauthlib>=3.0.0 in /usr/local/lib/python3.6/dist-packages (from requests-oauthlib>=0.7.0->tweepy) (3.1.0)\n",
            "Requirement already satisfied: chardet<4,>=3.0.2 in /usr/local/lib/python3.6/dist-packages (from requests>=2.11.1->tweepy) (3.0.4)\n",
            "Requirement already satisfied: urllib3!=1.25.0,!=1.25.1,<1.26,>=1.21.1 in /usr/local/lib/python3.6/dist-packages (from requests>=2.11.1->tweepy) (1.24.3)\n",
            "Requirement already satisfied: idna<3,>=2.5 in /usr/local/lib/python3.6/dist-packages (from requests>=2.11.1->tweepy) (2.10)\n",
            "Requirement already satisfied: certifi>=2017.4.17 in /usr/local/lib/python3.6/dist-packages (from requests>=2.11.1->tweepy) (2020.12.5)\n"
          ],
          "name": "stdout"
        }
      ]
    },
    {
      "cell_type": "code",
      "metadata": {
        "id": "a1_sWTP3OYR7"
      },
      "source": [
        "import tweepy\r\n",
        "import twitter\r\n",
        "import json"
      ],
      "execution_count": 9,
      "outputs": []
    },
    {
      "cell_type": "code",
      "metadata": {
        "id": "Jc-lCljGOwLg"
      },
      "source": [
        "CONSUMER_KEY = \"+++++++++++++++++++++++++++++++++\"\r\n",
        "CONSUMER_SECRET = \"++++++++++++++++++++++++++++++++++++++++\"\r\n",
        "\r\n",
        "OAUTH_TOKEN = \"+++++++++++++++++++++++++++++++++\"\r\n",
        "OAUTH_TOKEN_SECRET = \"++++++++++++++++++++++++++++++++++++++++++\"\r\n",
        "\r\n",
        "auth=twitter.oauth.OAuth(OAUTH_TOKEN,OAUTH_TOKEN_SECRET,CONSUMER_KEY,CONSUMER_SECRET)\r\n",
        "twitter_api=twitter.Twitter(auth=auth)"
      ],
      "execution_count": 6,
      "outputs": []
    },
    {
      "cell_type": "code",
      "metadata": {
        "colab": {
          "base_uri": "https://localhost:8080/"
        },
        "id": "lBnSFQ1OQ4Cs",
        "outputId": "71f52a05-8cfc-436b-f9b1-63d798a2c600"
      },
      "source": [
        "trend_tweet='#FirstTimeEver'\r\n",
        "count=1\r\n",
        "search_result=twitter_api.search.tweets(q=trend_tweet,count=count)\r\n",
        "print(search_result)"
      ],
      "execution_count": 7,
      "outputs": [
        {
          "output_type": "stream",
          "text": [
            "{'statuses': [{'created_at': 'Wed Dec 30 04:45:43 +0000 2020', 'id': 1344142598617899010, 'id_str': '1344142598617899010', 'text': '@BenKTallmadge @SidneyPowell1 @RealPNavarro @realDonaldTrump @RealRLimbaugh @GenFlynn @LLinWood Energy independent… https://t.co/i6HQY3yBSJ', 'truncated': True, 'entities': {'hashtags': [], 'symbols': [], 'user_mentions': [{'screen_name': 'BenKTallmadge', 'name': 'Password Hunter02', 'id': 3301847203, 'id_str': '3301847203', 'indices': [0, 14]}, {'screen_name': 'SidneyPowell1', 'name': 'Sidney Powell 🇺🇸⭐⭐⭐ #Kraken', 'id': 586707638, 'id_str': '586707638', 'indices': [15, 29]}, {'screen_name': 'RealPNavarro', 'name': 'Peter Navarro', 'id': 1242534200634478593, 'id_str': '1242534200634478593', 'indices': [30, 43]}, {'screen_name': 'realDonaldTrump', 'name': 'Donald J. Trump', 'id': 25073877, 'id_str': '25073877', 'indices': [44, 60]}, {'screen_name': 'RealRLimbaugh', 'name': 'Rush H. Limbaugh', 'id': 1314703570822930432, 'id_str': '1314703570822930432', 'indices': [61, 75]}, {'screen_name': 'GenFlynn', 'name': 'General Flynn', 'id': 240454812, 'id_str': '240454812', 'indices': [76, 85]}, {'screen_name': 'LLinWood', 'name': 'Lin Wood', 'id': 187680645, 'id_str': '187680645', 'indices': [86, 95]}], 'urls': [{'url': 'https://t.co/i6HQY3yBSJ', 'expanded_url': 'https://twitter.com/i/web/status/1344142598617899010', 'display_url': 'twitter.com/i/web/status/1…', 'indices': [116, 139]}]}, 'metadata': {'iso_language_code': 'en', 'result_type': 'recent'}, 'source': '<a href=\"http://twitter.com/download/android\" rel=\"nofollow\">Twitter for Android</a>', 'in_reply_to_status_id': 1344027252984410112, 'in_reply_to_status_id_str': '1344027252984410112', 'in_reply_to_user_id': 3301847203, 'in_reply_to_user_id_str': '3301847203', 'in_reply_to_screen_name': 'BenKTallmadge', 'user': {'id': 1341586465378217985, 'id_str': '1341586465378217985', 'name': 'Corey', 'screen_name': 'Corey36357252', 'location': '', 'description': '', 'url': None, 'entities': {'description': {'urls': []}}, 'protected': False, 'followers_count': 16, 'friends_count': 56, 'listed_count': 0, 'created_at': 'Wed Dec 23 03:28:56 +0000 2020', 'favourites_count': 1351, 'utc_offset': None, 'time_zone': None, 'geo_enabled': False, 'verified': False, 'statuses_count': 944, 'lang': None, 'contributors_enabled': False, 'is_translator': False, 'is_translation_enabled': False, 'profile_background_color': 'F5F8FA', 'profile_background_image_url': None, 'profile_background_image_url_https': None, 'profile_background_tile': False, 'profile_image_url': 'http://abs.twimg.com/sticky/default_profile_images/default_profile_normal.png', 'profile_image_url_https': 'https://abs.twimg.com/sticky/default_profile_images/default_profile_normal.png', 'profile_link_color': '1DA1F2', 'profile_sidebar_border_color': 'C0DEED', 'profile_sidebar_fill_color': 'DDEEF6', 'profile_text_color': '333333', 'profile_use_background_image': True, 'has_extended_profile': True, 'default_profile': True, 'default_profile_image': True, 'following': False, 'follow_request_sent': False, 'notifications': False, 'translator_type': 'none'}, 'geo': None, 'coordinates': None, 'place': None, 'contributors': None, 'is_quote_status': False, 'retweet_count': 0, 'favorite_count': 0, 'favorited': False, 'retweeted': False, 'lang': 'en'}], 'search_metadata': {'completed_in': 0.02, 'max_id': 1344142598617899010, 'max_id_str': '1344142598617899010', 'next_results': '?max_id=1344142598617899009&q=%23FirstTimeEver&count=1&include_entities=1', 'query': '%23FirstTimeEver', 'refresh_url': '?since_id=1344142598617899010&q=%23FirstTimeEver&include_entities=1', 'count': 1, 'since_id': 0, 'since_id_str': '0'}}\n"
          ],
          "name": "stdout"
        }
      ]
    },
    {
      "cell_type": "code",
      "metadata": {
        "id": "N2sZJJiaRW63"
      },
      "source": [
        "with open('crawled_tweets', 'w') as output_file:\r\n",
        "  load_data=json.dump(search_result,output_file,indent=1)"
      ],
      "execution_count": 10,
      "outputs": []
    },
    {
      "cell_type": "code",
      "metadata": {
        "id": "RlxMdnTERsvT"
      },
      "source": [
        "with open('crawled_tweets','r') as input_file:\r\n",
        "    Crawled_tweets = json.load(input_file)"
      ],
      "execution_count": 18,
      "outputs": []
    },
    {
      "cell_type": "code",
      "metadata": {
        "colab": {
          "base_uri": "https://localhost:8080/"
        },
        "id": "5BBJZzVuSFi4",
        "outputId": "a3e56c1e-c293-4c26-86d4-3ff56762e789"
      },
      "source": [
        "print(Crawled_tweets)"
      ],
      "execution_count": 19,
      "outputs": [
        {
          "output_type": "stream",
          "text": [
            "{'statuses': [{'created_at': 'Wed Dec 30 04:45:43 +0000 2020', 'id': 1344142598617899010, 'id_str': '1344142598617899010', 'text': '@BenKTallmadge @SidneyPowell1 @RealPNavarro @realDonaldTrump @RealRLimbaugh @GenFlynn @LLinWood Energy independent… https://t.co/i6HQY3yBSJ', 'truncated': True, 'entities': {'hashtags': [], 'symbols': [], 'user_mentions': [{'screen_name': 'BenKTallmadge', 'name': 'Password Hunter02', 'id': 3301847203, 'id_str': '3301847203', 'indices': [0, 14]}, {'screen_name': 'SidneyPowell1', 'name': 'Sidney Powell 🇺🇸⭐⭐⭐ #Kraken', 'id': 586707638, 'id_str': '586707638', 'indices': [15, 29]}, {'screen_name': 'RealPNavarro', 'name': 'Peter Navarro', 'id': 1242534200634478593, 'id_str': '1242534200634478593', 'indices': [30, 43]}, {'screen_name': 'realDonaldTrump', 'name': 'Donald J. Trump', 'id': 25073877, 'id_str': '25073877', 'indices': [44, 60]}, {'screen_name': 'RealRLimbaugh', 'name': 'Rush H. Limbaugh', 'id': 1314703570822930432, 'id_str': '1314703570822930432', 'indices': [61, 75]}, {'screen_name': 'GenFlynn', 'name': 'General Flynn', 'id': 240454812, 'id_str': '240454812', 'indices': [76, 85]}, {'screen_name': 'LLinWood', 'name': 'Lin Wood', 'id': 187680645, 'id_str': '187680645', 'indices': [86, 95]}], 'urls': [{'url': 'https://t.co/i6HQY3yBSJ', 'expanded_url': 'https://twitter.com/i/web/status/1344142598617899010', 'display_url': 'twitter.com/i/web/status/1…', 'indices': [116, 139]}]}, 'metadata': {'iso_language_code': 'en', 'result_type': 'recent'}, 'source': '<a href=\"http://twitter.com/download/android\" rel=\"nofollow\">Twitter for Android</a>', 'in_reply_to_status_id': 1344027252984410112, 'in_reply_to_status_id_str': '1344027252984410112', 'in_reply_to_user_id': 3301847203, 'in_reply_to_user_id_str': '3301847203', 'in_reply_to_screen_name': 'BenKTallmadge', 'user': {'id': 1341586465378217985, 'id_str': '1341586465378217985', 'name': 'Corey', 'screen_name': 'Corey36357252', 'location': '', 'description': '', 'url': None, 'entities': {'description': {'urls': []}}, 'protected': False, 'followers_count': 16, 'friends_count': 56, 'listed_count': 0, 'created_at': 'Wed Dec 23 03:28:56 +0000 2020', 'favourites_count': 1351, 'utc_offset': None, 'time_zone': None, 'geo_enabled': False, 'verified': False, 'statuses_count': 944, 'lang': None, 'contributors_enabled': False, 'is_translator': False, 'is_translation_enabled': False, 'profile_background_color': 'F5F8FA', 'profile_background_image_url': None, 'profile_background_image_url_https': None, 'profile_background_tile': False, 'profile_image_url': 'http://abs.twimg.com/sticky/default_profile_images/default_profile_normal.png', 'profile_image_url_https': 'https://abs.twimg.com/sticky/default_profile_images/default_profile_normal.png', 'profile_link_color': '1DA1F2', 'profile_sidebar_border_color': 'C0DEED', 'profile_sidebar_fill_color': 'DDEEF6', 'profile_text_color': '333333', 'profile_use_background_image': True, 'has_extended_profile': True, 'default_profile': True, 'default_profile_image': True, 'following': False, 'follow_request_sent': False, 'notifications': False, 'translator_type': 'none'}, 'geo': None, 'coordinates': None, 'place': None, 'contributors': None, 'is_quote_status': False, 'retweet_count': 0, 'favorite_count': 0, 'favorited': False, 'retweeted': False, 'lang': 'en'}], 'search_metadata': {'completed_in': 0.02, 'max_id': 1344142598617899010, 'max_id_str': '1344142598617899010', 'next_results': '?max_id=1344142598617899009&q=%23FirstTimeEver&count=1&include_entities=1', 'query': '%23FirstTimeEver', 'refresh_url': '?since_id=1344142598617899010&q=%23FirstTimeEver&include_entities=1', 'count': 1, 'since_id': 0, 'since_id_str': '0'}}\n"
          ],
          "name": "stdout"
        }
      ]
    },
    {
      "cell_type": "code",
      "metadata": {
        "id": "5gVqHwzRSaLP"
      },
      "source": [
        ""
      ],
      "execution_count": null,
      "outputs": []
    }
  ]
}