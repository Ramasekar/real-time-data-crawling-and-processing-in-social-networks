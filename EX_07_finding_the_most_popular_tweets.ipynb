{
  "nbformat": 4,
  "nbformat_minor": 0,
  "metadata": {
    "colab": {
      "name": "EX_07_finding_the_most_popular_tweets.ipynb",
      "provenance": [],
      "collapsed_sections": []
    },
    "kernelspec": {
      "name": "python3",
      "display_name": "Python 3"
    }
  },
  "cells": [
    {
      "cell_type": "code",
      "metadata": {
        "colab": {
          "base_uri": "https://localhost:8080/"
        },
        "id": "BcQ34edkN9er",
        "outputId": "ba93a407-c575-445d-fa04-020cefde4533"
      },
      "source": [
        "!pip install twitter\r\n",
        "!pip install twython\r\n",
        "import twitter\r\n",
        "import twython"
      ],
      "execution_count": 1,
      "outputs": [
        {
          "output_type": "stream",
          "text": [
            "Collecting twitter\n",
            "\u001b[?25l  Downloading https://files.pythonhosted.org/packages/85/e2/f602e3f584503f03e0389491b251464f8ecfe2596ac86e6b9068fe7419d3/twitter-1.18.0-py2.py3-none-any.whl (54kB)\n",
            "\r\u001b[K     |██████                          | 10kB 16.4MB/s eta 0:00:01\r\u001b[K     |████████████                    | 20kB 10.1MB/s eta 0:00:01\r\u001b[K     |██████████████████              | 30kB 8.2MB/s eta 0:00:01\r\u001b[K     |████████████████████████        | 40kB 7.3MB/s eta 0:00:01\r\u001b[K     |██████████████████████████████▏ | 51kB 4.3MB/s eta 0:00:01\r\u001b[K     |████████████████████████████████| 61kB 3.3MB/s \n",
            "\u001b[?25hInstalling collected packages: twitter\n",
            "Successfully installed twitter-1.18.0\n",
            "Collecting twython\n",
            "  Downloading https://files.pythonhosted.org/packages/24/80/579b96dfaa9b536efde883d4f0df7ea2598a6f3117a6dd572787f4a2bcfb/twython-3.8.2-py3-none-any.whl\n",
            "Requirement already satisfied: requests>=2.1.0 in /usr/local/lib/python3.6/dist-packages (from twython) (2.23.0)\n",
            "Requirement already satisfied: requests-oauthlib>=0.4.0 in /usr/local/lib/python3.6/dist-packages (from twython) (1.3.0)\n",
            "Requirement already satisfied: urllib3!=1.25.0,!=1.25.1,<1.26,>=1.21.1 in /usr/local/lib/python3.6/dist-packages (from requests>=2.1.0->twython) (1.24.3)\n",
            "Requirement already satisfied: chardet<4,>=3.0.2 in /usr/local/lib/python3.6/dist-packages (from requests>=2.1.0->twython) (3.0.4)\n",
            "Requirement already satisfied: certifi>=2017.4.17 in /usr/local/lib/python3.6/dist-packages (from requests>=2.1.0->twython) (2020.12.5)\n",
            "Requirement already satisfied: idna<3,>=2.5 in /usr/local/lib/python3.6/dist-packages (from requests>=2.1.0->twython) (2.10)\n",
            "Requirement already satisfied: oauthlib>=3.0.0 in /usr/local/lib/python3.6/dist-packages (from requests-oauthlib>=0.4.0->twython) (3.1.0)\n",
            "Installing collected packages: twython\n",
            "Successfully installed twython-3.8.2\n"
          ],
          "name": "stdout"
        }
      ]
    },
    {
      "cell_type": "code",
      "metadata": {
        "id": "c4eEec19Opa9"
      },
      "source": [
        "CONSUMER_KEY = \"oggx94jMpnAL3P0qAp7jRRCNr\"\r\n",
        "CONSUMER_SECRET = \"wgnUKMwmVNqxrYqEvSdEc2xl7fW0CphpoSKgGGrAJok7e3iw02\"\r\n",
        "\r\n",
        "OAUTH_TOKEN = \"1295930741449089024-QONEtvz7YQ1Fj5EwlF0JkXakNUaXVP\"\r\n",
        "OAUTH_TOKEN_SECRET = \"k42vlXE2chunIHpNXZdJu3PS8KFygSi0wHt7CZhg5Zr6Y\""
      ],
      "execution_count": 2,
      "outputs": []
    },
    {
      "cell_type": "code",
      "metadata": {
        "colab": {
          "base_uri": "https://localhost:8080/"
        },
        "id": "Eas3L62iRZdK",
        "outputId": "c684acb7-5075-4800-bf51-a92376eca682"
      },
      "source": [
        "auth=twitter.oauth.OAuth(OAUTH_TOKEN,OAUTH_TOKEN_SECRET,\r\n",
        "                        CONSUMER_KEY,CONSUMER_SECRET)\r\n",
        "\r\n",
        "twitter_api=twitter.Twitter(auth=auth)\r\n",
        "twitter_api"
      ],
      "execution_count": 3,
      "outputs": [
        {
          "output_type": "execute_result",
          "data": {
            "text/plain": [
              "<twitter.api.Twitter at 0x7faf9b109c88>"
            ]
          },
          "metadata": {
            "tags": []
          },
          "execution_count": 3
        }
      ]
    },
    {
      "cell_type": "code",
      "metadata": {
        "id": "2N_mwokSRcQJ"
      },
      "source": [
        "q=\"#FirstTimeEver\"\r\n",
        "search=twitter_api.search.tweets(q=q,count=100)"
      ],
      "execution_count": 4,
      "outputs": []
    },
    {
      "cell_type": "code",
      "metadata": {
        "colab": {
          "base_uri": "https://localhost:8080/"
        },
        "id": "vXwsTjvGYCc2",
        "outputId": "27589923-0453-4321-b1f3-81e04246eccb"
      },
      "source": [
        "statuses=search['statuses']\r\n",
        "print(statuses)"
      ],
      "execution_count": 5,
      "outputs": [
        {
          "output_type": "stream",
          "text": [
            "[{'created_at': 'Wed Dec 30 04:45:43 +0000 2020', 'id': 1344142598617899010, 'id_str': '1344142598617899010', 'text': '@BenKTallmadge @SidneyPowell1 @RealPNavarro @realDonaldTrump @RealRLimbaugh @GenFlynn @LLinWood Energy independent… https://t.co/i6HQY3yBSJ', 'truncated': True, 'entities': {'hashtags': [], 'symbols': [], 'user_mentions': [{'screen_name': 'BenKTallmadge', 'name': 'Password Hunter02', 'id': 3301847203, 'id_str': '3301847203', 'indices': [0, 14]}, {'screen_name': 'SidneyPowell1', 'name': 'Sidney Powell 🇺🇸⭐⭐⭐ #Kraken', 'id': 586707638, 'id_str': '586707638', 'indices': [15, 29]}, {'screen_name': 'RealPNavarro', 'name': 'Peter Navarro', 'id': 1242534200634478593, 'id_str': '1242534200634478593', 'indices': [30, 43]}, {'screen_name': 'realDonaldTrump', 'name': 'Donald J. Trump', 'id': 25073877, 'id_str': '25073877', 'indices': [44, 60]}, {'screen_name': 'RealRLimbaugh', 'name': 'Rush H. Limbaugh', 'id': 1314703570822930432, 'id_str': '1314703570822930432', 'indices': [61, 75]}, {'screen_name': 'GenFlynn', 'name': 'General Flynn', 'id': 240454812, 'id_str': '240454812', 'indices': [76, 85]}, {'screen_name': 'LLinWood', 'name': 'Lin Wood', 'id': 187680645, 'id_str': '187680645', 'indices': [86, 95]}], 'urls': [{'url': 'https://t.co/i6HQY3yBSJ', 'expanded_url': 'https://twitter.com/i/web/status/1344142598617899010', 'display_url': 'twitter.com/i/web/status/1…', 'indices': [116, 139]}]}, 'metadata': {'iso_language_code': 'en', 'result_type': 'recent'}, 'source': '<a href=\"http://twitter.com/download/android\" rel=\"nofollow\">Twitter for Android</a>', 'in_reply_to_status_id': 1344027252984410112, 'in_reply_to_status_id_str': '1344027252984410112', 'in_reply_to_user_id': 3301847203, 'in_reply_to_user_id_str': '3301847203', 'in_reply_to_screen_name': 'BenKTallmadge', 'user': {'id': 1341586465378217985, 'id_str': '1341586465378217985', 'name': 'Corey', 'screen_name': 'Corey36357252', 'location': '', 'description': '', 'url': None, 'entities': {'description': {'urls': []}}, 'protected': False, 'followers_count': 16, 'friends_count': 56, 'listed_count': 0, 'created_at': 'Wed Dec 23 03:28:56 +0000 2020', 'favourites_count': 1350, 'utc_offset': None, 'time_zone': None, 'geo_enabled': False, 'verified': False, 'statuses_count': 944, 'lang': None, 'contributors_enabled': False, 'is_translator': False, 'is_translation_enabled': False, 'profile_background_color': 'F5F8FA', 'profile_background_image_url': None, 'profile_background_image_url_https': None, 'profile_background_tile': False, 'profile_image_url': 'http://abs.twimg.com/sticky/default_profile_images/default_profile_normal.png', 'profile_image_url_https': 'https://abs.twimg.com/sticky/default_profile_images/default_profile_normal.png', 'profile_link_color': '1DA1F2', 'profile_sidebar_border_color': 'C0DEED', 'profile_sidebar_fill_color': 'DDEEF6', 'profile_text_color': '333333', 'profile_use_background_image': True, 'has_extended_profile': True, 'default_profile': True, 'default_profile_image': True, 'following': False, 'follow_request_sent': False, 'notifications': False, 'translator_type': 'none'}, 'geo': None, 'coordinates': None, 'place': None, 'contributors': None, 'is_quote_status': False, 'retweet_count': 0, 'favorite_count': 0, 'favorited': False, 'retweeted': False, 'lang': 'en'}, {'created_at': 'Sun Dec 27 03:25:44 +0000 2020', 'id': 1343035307399254016, 'id_str': '1343035307399254016', 'text': \"@SecsportsR 1989 Iron Bowl ....and it's untouchable\\n\\n#firsttimeever\", 'truncated': False, 'entities': {'hashtags': [{'text': 'firsttimeever', 'indices': [53, 67]}], 'symbols': [], 'user_mentions': [{'screen_name': 'SecsportsR', 'name': 'SEC Sports Report', 'id': 1308518707350642689, 'id_str': '1308518707350642689', 'indices': [0, 11]}], 'urls': []}, 'metadata': {'iso_language_code': 'en', 'result_type': 'recent'}, 'source': '<a href=\"https://mobile.twitter.com\" rel=\"nofollow\">Twitter Web App</a>', 'in_reply_to_status_id': 1343034240091484162, 'in_reply_to_status_id_str': '1343034240091484162', 'in_reply_to_user_id': 1308518707350642689, 'in_reply_to_user_id_str': '1308518707350642689', 'in_reply_to_screen_name': 'SecsportsR', 'user': {'id': 1199720992811208704, 'id_str': '1199720992811208704', 'name': 'GamedayintheSouth', 'screen_name': 'gameday_south', 'location': '', 'description': \"Conservative, Christian, Southern man with a satirical take on college football .  Love 80's pop culture.  God Bless America and War Damn Eagle.\", 'url': None, 'entities': {'description': {'urls': []}}, 'protected': False, 'followers_count': 151, 'friends_count': 235, 'listed_count': 0, 'created_at': 'Wed Nov 27 16:06:00 +0000 2019', 'favourites_count': 3903, 'utc_offset': None, 'time_zone': None, 'geo_enabled': False, 'verified': False, 'statuses_count': 2570, 'lang': None, 'contributors_enabled': False, 'is_translator': False, 'is_translation_enabled': False, 'profile_background_color': 'F5F8FA', 'profile_background_image_url': None, 'profile_background_image_url_https': None, 'profile_background_tile': False, 'profile_image_url': 'http://pbs.twimg.com/profile_images/1199779218957242370/kO90qwbu_normal.jpg', 'profile_image_url_https': 'https://pbs.twimg.com/profile_images/1199779218957242370/kO90qwbu_normal.jpg', 'profile_banner_url': 'https://pbs.twimg.com/profile_banners/1199720992811208704/1574884633', 'profile_link_color': '1DA1F2', 'profile_sidebar_border_color': 'C0DEED', 'profile_sidebar_fill_color': 'DDEEF6', 'profile_text_color': '333333', 'profile_use_background_image': True, 'has_extended_profile': True, 'default_profile': True, 'default_profile_image': False, 'following': False, 'follow_request_sent': False, 'notifications': False, 'translator_type': 'none'}, 'geo': None, 'coordinates': None, 'place': None, 'contributors': None, 'is_quote_status': False, 'retweet_count': 0, 'favorite_count': 11, 'favorited': False, 'retweeted': False, 'lang': 'en'}, {'created_at': 'Sat Dec 26 01:39:33 +0000 2020', 'id': 1342646198436388865, 'id_str': '1342646198436388865', 'text': '@DustBaker O had zero turnovers and scored 33 (no points in garbage time) \\nD still gives up 52 points. That points… https://t.co/kAzqdNZLWN', 'truncated': True, 'entities': {'hashtags': [], 'symbols': [], 'user_mentions': [{'screen_name': 'DustBaker', 'name': 'Dustin Baker', 'id': 1069252373497794560, 'id_str': '1069252373497794560', 'indices': [0, 10]}], 'urls': [{'url': 'https://t.co/kAzqdNZLWN', 'expanded_url': 'https://twitter.com/i/web/status/1342646198436388865', 'display_url': 'twitter.com/i/web/status/1…', 'indices': [116, 139]}]}, 'metadata': {'iso_language_code': 'en', 'result_type': 'recent'}, 'source': '<a href=\"http://twitter.com/#!/download/ipad\" rel=\"nofollow\">Twitter for iPad</a>', 'in_reply_to_status_id': 1342588573531463682, 'in_reply_to_status_id_str': '1342588573531463682', 'in_reply_to_user_id': 1069252373497794560, 'in_reply_to_user_id_str': '1069252373497794560', 'in_reply_to_screen_name': 'DustBaker', 'user': {'id': 2199665573, 'id_str': '2199665573', 'name': 'DK', 'screen_name': 'Meatball73Mike', 'location': '', 'description': '', 'url': None, 'entities': {'description': {'urls': []}}, 'protected': False, 'followers_count': 153, 'friends_count': 293, 'listed_count': 0, 'created_at': 'Thu Nov 28 19:59:46 +0000 2013', 'favourites_count': 10425, 'utc_offset': None, 'time_zone': None, 'geo_enabled': False, 'verified': False, 'statuses_count': 1893, 'lang': None, 'contributors_enabled': False, 'is_translator': False, 'is_translation_enabled': False, 'profile_background_color': 'C0DEED', 'profile_background_image_url': 'http://abs.twimg.com/images/themes/theme1/bg.png', 'profile_background_image_url_https': 'https://abs.twimg.com/images/themes/theme1/bg.png', 'profile_background_tile': False, 'profile_image_url': 'http://pbs.twimg.com/profile_images/1272991840678088705/kKEpTd2d_normal.jpg', 'profile_image_url_https': 'https://pbs.twimg.com/profile_images/1272991840678088705/kKEpTd2d_normal.jpg', 'profile_banner_url': 'https://pbs.twimg.com/profile_banners/2199665573/1506967333', 'profile_link_color': '1DA1F2', 'profile_sidebar_border_color': 'C0DEED', 'profile_sidebar_fill_color': 'DDEEF6', 'profile_text_color': '333333', 'profile_use_background_image': True, 'has_extended_profile': True, 'default_profile': True, 'default_profile_image': False, 'following': False, 'follow_request_sent': False, 'notifications': False, 'translator_type': 'none'}, 'geo': None, 'coordinates': None, 'place': None, 'contributors': None, 'is_quote_status': False, 'retweet_count': 0, 'favorite_count': 0, 'favorited': False, 'retweeted': False, 'lang': 'en'}, {'created_at': 'Fri Dec 25 16:17:29 +0000 2020', 'id': 1342504750953201669, 'id_str': '1342504750953201669', 'text': 'RT @empress1_16: Goodevening tweeps! Am new around the neighborhood and looking forward to making new friends😉💦 i follow for a follow back…', 'truncated': False, 'entities': {'hashtags': [], 'symbols': [], 'user_mentions': [{'screen_name': 'empress1_16', 'name': 'KediWhitty', 'id': 1287677781560700933, 'id_str': '1287677781560700933', 'indices': [3, 15]}], 'urls': []}, 'metadata': {'iso_language_code': 'en', 'result_type': 'recent'}, 'source': '<a href=\"http://twitter.com/download/iphone\" rel=\"nofollow\">Twitter for iPhone</a>', 'in_reply_to_status_id': None, 'in_reply_to_status_id_str': None, 'in_reply_to_user_id': None, 'in_reply_to_user_id_str': None, 'in_reply_to_screen_name': None, 'user': {'id': 339731560, 'id_str': '339731560', 'name': 'Judah🤹🏾\\u200d♂️', 'screen_name': 'jmbets_judance', 'location': '🇰🇪🇺🇬', 'description': 'starchitect 👌| dance freak💪|MCU freak|Ambivert| love poetry🤹🏾\\u200d♂️|ManU❣️|God above all', 'url': None, 'entities': {'description': {'urls': []}}, 'protected': False, 'followers_count': 7375, 'friends_count': 7144, 'listed_count': 0, 'created_at': 'Thu Jul 21 15:31:02 +0000 2011', 'favourites_count': 13081, 'utc_offset': None, 'time_zone': None, 'geo_enabled': True, 'verified': False, 'statuses_count': 10821, 'lang': None, 'contributors_enabled': False, 'is_translator': False, 'is_translation_enabled': False, 'profile_background_color': 'C0DEED', 'profile_background_image_url': 'http://abs.twimg.com/images/themes/theme1/bg.png', 'profile_background_image_url_https': 'https://abs.twimg.com/images/themes/theme1/bg.png', 'profile_background_tile': False, 'profile_image_url': 'http://pbs.twimg.com/profile_images/1331280548904505354/vSaGLkvL_normal.jpg', 'profile_image_url_https': 'https://pbs.twimg.com/profile_images/1331280548904505354/vSaGLkvL_normal.jpg', 'profile_banner_url': 'https://pbs.twimg.com/profile_banners/339731560/1603955158', 'profile_link_color': '1DA1F2', 'profile_sidebar_border_color': 'C0DEED', 'profile_sidebar_fill_color': 'DDEEF6', 'profile_text_color': '333333', 'profile_use_background_image': True, 'has_extended_profile': True, 'default_profile': True, 'default_profile_image': False, 'following': False, 'follow_request_sent': False, 'notifications': False, 'translator_type': 'none'}, 'geo': None, 'coordinates': None, 'place': None, 'contributors': None, 'retweeted_status': {'created_at': 'Mon Nov 02 17:08:08 +0000 2020', 'id': 1323310940155236355, 'id_str': '1323310940155236355', 'text': 'Goodevening tweeps! Am new around the neighborhood and looking forward to making new friends😉💦 i follow for a follo… https://t.co/rhuOUYPjQ0', 'truncated': True, 'entities': {'hashtags': [], 'symbols': [], 'user_mentions': [], 'urls': [{'url': 'https://t.co/rhuOUYPjQ0', 'expanded_url': 'https://twitter.com/i/web/status/1323310940155236355', 'display_url': 'twitter.com/i/web/status/1…', 'indices': [117, 140]}]}, 'metadata': {'iso_language_code': 'en', 'result_type': 'recent'}, 'source': '<a href=\"http://twitter.com/download/android\" rel=\"nofollow\">Twitter for Android</a>', 'in_reply_to_status_id': None, 'in_reply_to_status_id_str': None, 'in_reply_to_user_id': None, 'in_reply_to_user_id_str': None, 'in_reply_to_screen_name': None, 'user': {'id': 1287677781560700933, 'id_str': '1287677781560700933', 'name': 'KediWhitty', 'screen_name': 'empress1_16', 'location': '', 'description': 'GOD\\nam a baller\\nlove chess', 'url': None, 'entities': {'description': {'urls': []}}, 'protected': False, 'followers_count': 137, 'friends_count': 117, 'listed_count': 0, 'created_at': 'Mon Jul 27 09:14:54 +0000 2020', 'favourites_count': 257, 'utc_offset': None, 'time_zone': None, 'geo_enabled': False, 'verified': False, 'statuses_count': 125, 'lang': None, 'contributors_enabled': False, 'is_translator': False, 'is_translation_enabled': False, 'profile_background_color': 'F5F8FA', 'profile_background_image_url': None, 'profile_background_image_url_https': None, 'profile_background_tile': False, 'profile_image_url': 'http://pbs.twimg.com/profile_images/1323336185738088450/I5OZY7zB_normal.jpg', 'profile_image_url_https': 'https://pbs.twimg.com/profile_images/1323336185738088450/I5OZY7zB_normal.jpg', 'profile_banner_url': 'https://pbs.twimg.com/profile_banners/1287677781560700933/1605254915', 'profile_link_color': '1DA1F2', 'profile_sidebar_border_color': 'C0DEED', 'profile_sidebar_fill_color': 'DDEEF6', 'profile_text_color': '333333', 'profile_use_background_image': True, 'has_extended_profile': True, 'default_profile': True, 'default_profile_image': False, 'following': False, 'follow_request_sent': False, 'notifications': False, 'translator_type': 'none'}, 'geo': None, 'coordinates': None, 'place': None, 'contributors': None, 'is_quote_status': False, 'retweet_count': 2, 'favorite_count': 3, 'favorited': False, 'retweeted': False, 'possibly_sensitive': False, 'lang': 'en'}, 'is_quote_status': False, 'retweet_count': 2, 'favorite_count': 0, 'favorited': False, 'retweeted': False, 'lang': 'en'}, {'created_at': 'Fri Dec 25 01:23:15 +0000 2020', 'id': 1342279708810113030, 'id_str': '1342279708810113030', 'text': 'I made KD and Heather liked it #firsttimeever', 'truncated': False, 'entities': {'hashtags': [{'text': 'firsttimeever', 'indices': [31, 45]}], 'symbols': [], 'user_mentions': [], 'urls': []}, 'metadata': {'iso_language_code': 'en', 'result_type': 'recent'}, 'source': '<a href=\"http://twitter.com/download/android\" rel=\"nofollow\">Twitter for Android</a>', 'in_reply_to_status_id': None, 'in_reply_to_status_id_str': None, 'in_reply_to_user_id': None, 'in_reply_to_user_id_str': None, 'in_reply_to_screen_name': None, 'user': {'id': 412768897, 'id_str': '412768897', 'name': 'Sandy', 'screen_name': 'Sanhan709', 'location': 'Gander', 'description': '', 'url': None, 'entities': {'description': {'urls': []}}, 'protected': False, 'followers_count': 64, 'friends_count': 104, 'listed_count': 0, 'created_at': 'Tue Nov 15 03:27:57 +0000 2011', 'favourites_count': 758, 'utc_offset': None, 'time_zone': None, 'geo_enabled': True, 'verified': False, 'statuses_count': 883, 'lang': None, 'contributors_enabled': False, 'is_translator': False, 'is_translation_enabled': False, 'profile_background_color': 'C0DEED', 'profile_background_image_url': 'http://abs.twimg.com/images/themes/theme1/bg.png', 'profile_background_image_url_https': 'https://abs.twimg.com/images/themes/theme1/bg.png', 'profile_background_tile': False, 'profile_image_url': 'http://pbs.twimg.com/profile_images/1248021435068469248/eBZd7y7B_normal.jpg', 'profile_image_url_https': 'https://pbs.twimg.com/profile_images/1248021435068469248/eBZd7y7B_normal.jpg', 'profile_banner_url': 'https://pbs.twimg.com/profile_banners/412768897/1584492862', 'profile_link_color': '1DA1F2', 'profile_sidebar_border_color': 'C0DEED', 'profile_sidebar_fill_color': 'DDEEF6', 'profile_text_color': '333333', 'profile_use_background_image': True, 'has_extended_profile': False, 'default_profile': True, 'default_profile_image': False, 'following': False, 'follow_request_sent': False, 'notifications': False, 'translator_type': 'none'}, 'geo': None, 'coordinates': None, 'place': None, 'contributors': None, 'is_quote_status': False, 'retweet_count': 0, 'favorite_count': 4, 'favorited': False, 'retweeted': False, 'lang': 'en'}, {'created_at': 'Thu Dec 24 20:46:45 +0000 2020', 'id': 1342210123326836736, 'id_str': '1342210123326836736', 'text': '7:45 on Xmas morning and it’s not already 37.4°!? Doesn’t feel right. Miss u Perth. #firsttimeever', 'truncated': False, 'entities': {'hashtags': [{'text': 'firsttimeever', 'indices': [84, 98]}], 'symbols': [], 'user_mentions': [], 'urls': []}, 'metadata': {'iso_language_code': 'en', 'result_type': 'recent'}, 'source': '<a href=\"http://twitter.com/download/iphone\" rel=\"nofollow\">Twitter for iPhone</a>', 'in_reply_to_status_id': None, 'in_reply_to_status_id_str': None, 'in_reply_to_user_id': None, 'in_reply_to_user_id_str': None, 'in_reply_to_screen_name': None, 'user': {'id': 498666567, 'id_str': '498666567', 'name': 'Scotty Cummings', 'screen_name': 'ScottyCummings_', 'location': 'Melbourne', 'description': 'Contact through Bravo Talent Mngmt.', 'url': None, 'entities': {'description': {'urls': []}}, 'protected': False, 'followers_count': 17445, 'friends_count': 245, 'listed_count': 54, 'created_at': 'Tue Feb 21 09:03:00 +0000 2012', 'favourites_count': 11821, 'utc_offset': None, 'time_zone': None, 'geo_enabled': False, 'verified': True, 'statuses_count': 5311, 'lang': None, 'contributors_enabled': False, 'is_translator': False, 'is_translation_enabled': False, 'profile_background_color': 'C0DEED', 'profile_background_image_url': 'http://abs.twimg.com/images/themes/theme1/bg.png', 'profile_background_image_url_https': 'https://abs.twimg.com/images/themes/theme1/bg.png', 'profile_background_tile': False, 'profile_image_url': 'http://pbs.twimg.com/profile_images/1108589723717496832/YEGQbqI__normal.jpg', 'profile_image_url_https': 'https://pbs.twimg.com/profile_images/1108589723717496832/YEGQbqI__normal.jpg', 'profile_link_color': '1DA1F2', 'profile_sidebar_border_color': 'C0DEED', 'profile_sidebar_fill_color': 'DDEEF6', 'profile_text_color': '333333', 'profile_use_background_image': True, 'has_extended_profile': True, 'default_profile': True, 'default_profile_image': False, 'following': False, 'follow_request_sent': False, 'notifications': False, 'translator_type': 'none'}, 'geo': None, 'coordinates': None, 'place': None, 'contributors': None, 'is_quote_status': False, 'retweet_count': 0, 'favorite_count': 75, 'favorited': False, 'retweeted': False, 'lang': 'en'}, {'created_at': 'Thu Dec 24 12:15:59 +0000 2020', 'id': 1342081586519371779, 'id_str': '1342081586519371779', 'text': 'So i just ended up writing a mail to the COO of Wells Fargo n btw i work for Wells Fargo. #jobresponsibilities #firsttimeever', 'truncated': False, 'entities': {'hashtags': [{'text': 'jobresponsibilities', 'indices': [90, 110]}, {'text': 'firsttimeever', 'indices': [111, 125]}], 'symbols': [], 'user_mentions': [], 'urls': []}, 'metadata': {'iso_language_code': 'en', 'result_type': 'recent'}, 'source': '<a href=\"http://twitter.com/download/android\" rel=\"nofollow\">Twitter for Android</a>', 'in_reply_to_status_id': None, 'in_reply_to_status_id_str': None, 'in_reply_to_user_id': None, 'in_reply_to_user_id_str': None, 'in_reply_to_screen_name': None, 'user': {'id': 129411533, 'id_str': '129411533', 'name': 'Manu', 'screen_name': 'awesomessy', 'location': 'hyderabad ', 'description': 'Shooting star with no tail;EDM lover; Automobile freak, Nature admirer;day dreamer;simplicity follower#livelarger', 'url': None, 'entities': {'description': {'urls': []}}, 'protected': False, 'followers_count': 334, 'friends_count': 360, 'listed_count': 10, 'created_at': 'Sun Apr 04 05:57:25 +0000 2010', 'favourites_count': 8161, 'utc_offset': None, 'time_zone': None, 'geo_enabled': True, 'verified': False, 'statuses_count': 6316, 'lang': None, 'contributors_enabled': False, 'is_translator': False, 'is_translation_enabled': False, 'profile_background_color': 'FFFFFF', 'profile_background_image_url': 'http://abs.twimg.com/images/themes/theme14/bg.gif', 'profile_background_image_url_https': 'https://abs.twimg.com/images/themes/theme14/bg.gif', 'profile_background_tile': True, 'profile_image_url': 'http://pbs.twimg.com/profile_images/870684774637092864/2F7v22lp_normal.jpg', 'profile_image_url_https': 'https://pbs.twimg.com/profile_images/870684774637092864/2F7v22lp_normal.jpg', 'profile_banner_url': 'https://pbs.twimg.com/profile_banners/129411533/1437538582', 'profile_link_color': '696969', 'profile_sidebar_border_color': '000000', 'profile_sidebar_fill_color': '000000', 'profile_text_color': '363636', 'profile_use_background_image': True, 'has_extended_profile': False, 'default_profile': False, 'default_profile_image': False, 'following': False, 'follow_request_sent': False, 'notifications': False, 'translator_type': 'none'}, 'geo': None, 'coordinates': None, 'place': None, 'contributors': None, 'is_quote_status': False, 'retweet_count': 0, 'favorite_count': 0, 'favorited': False, 'retweeted': False, 'lang': 'en'}, {'created_at': 'Wed Dec 23 19:24:04 +0000 2020', 'id': 1341826929746468866, 'id_str': '1341826929746468866', 'text': 'GAMEDAY BALA GAMEDAY! #FiestaUnis #FirstTimeEver #GoSpursGo #History @spurs #BeatMemphis 🏀 @Patty_Mills #OurColors… https://t.co/55o6J25Rfs', 'truncated': True, 'entities': {'hashtags': [{'text': 'FiestaUnis', 'indices': [22, 33]}, {'text': 'FirstTimeEver', 'indices': [34, 48]}, {'text': 'GoSpursGo', 'indices': [49, 59]}, {'text': 'History', 'indices': [60, 68]}, {'text': 'BeatMemphis', 'indices': [76, 88]}, {'text': 'OurColors', 'indices': [104, 114]}], 'symbols': [], 'user_mentions': [{'screen_name': 'spurs', 'name': 'San Antonio Spurs', 'id': 18371803, 'id_str': '18371803', 'indices': [69, 75]}, {'screen_name': 'Patty_Mills', 'name': 'Patrick Mills', 'id': 48176112, 'id_str': '48176112', 'indices': [91, 103]}], 'urls': [{'url': 'https://t.co/55o6J25Rfs', 'expanded_url': 'https://twitter.com/i/web/status/1341826929746468866', 'display_url': 'twitter.com/i/web/status/1…', 'indices': [116, 139]}]}, 'metadata': {'iso_language_code': 'en', 'result_type': 'recent'}, 'source': '<a href=\"http://twitter.com/download/android\" rel=\"nofollow\">Twitter for Android</a>', 'in_reply_to_status_id': None, 'in_reply_to_status_id_str': None, 'in_reply_to_user_id': None, 'in_reply_to_user_id_str': None, 'in_reply_to_screen_name': None, 'user': {'id': 1480869571, 'id_str': '1480869571', 'name': 'Trey Felder', 'screen_name': 'TbirdTr3y_10', 'location': 'San Antonio, TX', 'description': 'Fightin\\' Texas Aggie \\'10 & HUGE fan of the San Antonio Spurs. Christian. Lesser half of YouTube\\'s \"The Right Brothers.\" My wife & kids are my reason for living!', 'url': 'https://t.co/Z24giAtegp', 'entities': {'url': {'urls': [{'url': 'https://t.co/Z24giAtegp', 'expanded_url': 'https://www.youtube.com/channel/UC3oeGb7WCqUn0niycbNSc0w', 'display_url': 'youtube.com/channel/UC3oeG…', 'indices': [0, 23]}]}, 'description': {'urls': []}}, 'protected': False, 'followers_count': 29485, 'friends_count': 19045, 'listed_count': 52, 'created_at': 'Mon Jun 03 23:18:51 +0000 2013', 'favourites_count': 159953, 'utc_offset': None, 'time_zone': None, 'geo_enabled': True, 'verified': False, 'statuses_count': 49886, 'lang': None, 'contributors_enabled': False, 'is_translator': False, 'is_translation_enabled': False, 'profile_background_color': '131516', 'profile_background_image_url': 'http://abs.twimg.com/images/themes/theme14/bg.gif', 'profile_background_image_url_https': 'https://abs.twimg.com/images/themes/theme14/bg.gif', 'profile_background_tile': True, 'profile_image_url': 'http://pbs.twimg.com/profile_images/1196699645000454145/V8V2O44c_normal.jpg', 'profile_image_url_https': 'https://pbs.twimg.com/profile_images/1196699645000454145/V8V2O44c_normal.jpg', 'profile_banner_url': 'https://pbs.twimg.com/profile_banners/1480869571/1385337898', 'profile_link_color': '009999', 'profile_sidebar_border_color': 'EEEEEE', 'profile_sidebar_fill_color': 'EFEFEF', 'profile_text_color': '333333', 'profile_use_background_image': True, 'has_extended_profile': True, 'default_profile': False, 'default_profile_image': False, 'following': False, 'follow_request_sent': False, 'notifications': False, 'translator_type': 'none'}, 'geo': None, 'coordinates': None, 'place': {'id': '00a1b28251c671b8', 'url': 'https://api.twitter.com/1.1/geo/id/00a1b28251c671b8.json', 'place_type': 'city', 'name': 'Helotes', 'full_name': 'Helotes, TX', 'country_code': 'US', 'country': 'United States', 'contained_within': [], 'bounding_box': {'type': 'Polygon', 'coordinates': [[[-98.7647213, 29.4955658], [-98.661448, 29.4955658], [-98.661448, 29.604798], [-98.7647213, 29.604798]]]}, 'attributes': {}}, 'contributors': None, 'is_quote_status': False, 'retweet_count': 1, 'favorite_count': 88, 'favorited': False, 'retweeted': False, 'possibly_sensitive': False, 'lang': 'en'}, {'created_at': 'Tue Dec 22 16:01:31 +0000 2020', 'id': 1341413569271914497, 'id_str': '1341413569271914497', 'text': '#100FREEiphone12 \\n#Firsttimeever', 'truncated': False, 'entities': {'hashtags': [{'text': '100FREEiphone12', 'indices': [0, 16]}, {'text': 'Firsttimeever', 'indices': [18, 32]}], 'symbols': [], 'user_mentions': [], 'urls': []}, 'metadata': {'iso_language_code': 'und', 'result_type': 'recent'}, 'source': '<a href=\"https://mobile.twitter.com\" rel=\"nofollow\">Twitter Web App</a>', 'in_reply_to_status_id': None, 'in_reply_to_status_id_str': None, 'in_reply_to_user_id': None, 'in_reply_to_user_id_str': None, 'in_reply_to_screen_name': None, 'user': {'id': 1330272682034814977, 'id_str': '1330272682034814977', 'name': 'Eliezer V. Quintero', 'screen_name': 'eli_vquintero11', 'location': 'Hermosillo, Sonora', 'description': 'Live life as best as you can, it can end any second... | Drummer | Bassist |Coffee Enthusiast | Hmo, Mx.', 'url': None, 'entities': {'description': {'urls': []}}, 'protected': False, 'followers_count': 2, 'friends_count': 67, 'listed_count': 0, 'created_at': 'Sat Nov 21 22:11:45 +0000 2020', 'favourites_count': 53, 'utc_offset': None, 'time_zone': None, 'geo_enabled': False, 'verified': False, 'statuses_count': 341, 'lang': None, 'contributors_enabled': False, 'is_translator': False, 'is_translation_enabled': False, 'profile_background_color': 'F5F8FA', 'profile_background_image_url': None, 'profile_background_image_url_https': None, 'profile_background_tile': False, 'profile_image_url': 'http://pbs.twimg.com/profile_images/1330287448706981890/q_73QwAo_normal.jpg', 'profile_image_url_https': 'https://pbs.twimg.com/profile_images/1330287448706981890/q_73QwAo_normal.jpg', 'profile_banner_url': 'https://pbs.twimg.com/profile_banners/1330272682034814977/1606000278', 'profile_link_color': '1DA1F2', 'profile_sidebar_border_color': 'C0DEED', 'profile_sidebar_fill_color': 'DDEEF6', 'profile_text_color': '333333', 'profile_use_background_image': True, 'has_extended_profile': True, 'default_profile': True, 'default_profile_image': False, 'following': False, 'follow_request_sent': False, 'notifications': False, 'translator_type': 'none'}, 'geo': None, 'coordinates': None, 'place': None, 'contributors': None, 'is_quote_status': False, 'retweet_count': 0, 'favorite_count': 0, 'favorited': False, 'retweeted': False, 'lang': 'und'}]\n"
          ],
          "name": "stdout"
        }
      ]
    },
    {
      "cell_type": "code",
      "metadata": {
        "id": "hNqdXOu2YHYE"
      },
      "source": [
        "retweets = [\r\n",
        "            (status['retweet_count'], \r\n",
        "             status['retweeted_status']['user']['screen_name'],\r\n",
        "             status['retweeted_status']['id'],\r\n",
        "             status['text']) \r\n",
        "            \r\n",
        "           \r\n",
        "            for status in statuses\r\n",
        "            \r\n",
        "            if 'retweeted_status' in status.keys()\r\n",
        "           ]"
      ],
      "execution_count": 6,
      "outputs": []
    },
    {
      "cell_type": "code",
      "metadata": {
        "colab": {
          "base_uri": "https://localhost:8080/"
        },
        "id": "seHuLn06YSFo",
        "outputId": "749b1cc3-e1df-4de9-a7a9-564a585a8856"
      },
      "source": [
        "# Slice off the first 5 from the sorted results and display each item in the tuple\r\n",
        "from prettytable import PrettyTable\r\n",
        "\r\n",
        "pt = PrettyTable(field_names=['Count', 'Screen Name', 'Tweet ID', 'Text'])\r\n",
        "[ pt.add_row(row) for row in sorted(retweets, reverse=True)[:5] ]\r\n",
        "pt.max_width['Text'] = 70\r\n",
        "pt.align= 'l'\r\n",
        "print(pt)"
      ],
      "execution_count": 8,
      "outputs": [
        {
          "output_type": "stream",
          "text": [
            "+-------+-------------+---------------------+------------------------------------------------------------------------+\n",
            "| Count | Screen Name | Tweet ID            | Text                                                                   |\n",
            "+-------+-------------+---------------------+------------------------------------------------------------------------+\n",
            "| 2     | empress1_16 | 1323310940155236355 | RT @empress1_16: Goodevening tweeps! Am new around the neighborhood    |\n",
            "|       |             |                     | and looking forward to making new friends😉💦 i follow for a follow    |\n",
            "|       |             |                     | back…                                                                  |\n",
            "+-------+-------------+---------------------+------------------------------------------------------------------------+\n"
          ],
          "name": "stdout"
        }
      ]
    },
    {
      "cell_type": "code",
      "metadata": {
        "id": "nFrc9FDNYTmx"
      },
      "source": [
        ""
      ],
      "execution_count": null,
      "outputs": []
    }
  ]
}